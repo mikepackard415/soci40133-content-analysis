{
 "cells": [
  {
   "cell_type": "code",
   "execution_count": 2,
   "id": "d88625f9",
   "metadata": {},
   "outputs": [],
   "source": [
    "import requests\n",
    "from bs4 import BeautifulSoup\n",
    "import pandas as pd\n",
    "import time\n",
    "from tqdm.notebook import tqdm, trange"
   ]
  },
  {
   "cell_type": "code",
   "execution_count": 3,
   "id": "99fae4e9",
   "metadata": {},
   "outputs": [],
   "source": [
    "user_agent = 'Mozilla/5.0 (Windows NT 10.0; Win64; x64) AppleWebKit/537.36 (KHTML, like Gecko) Chrome/91.0.4472.114 Safari/537.36'\n",
    "referer = 'https://www.resilience.org/latest-articles/'\n",
    "headers = {'User-Agent': user_agent, 'referer':referer}"
   ]
  },
  {
   "cell_type": "code",
   "execution_count": 16,
   "id": "8d2c3304",
   "metadata": {},
   "outputs": [],
   "source": [
    "topic_page = 'https://insideclimatenews.org/'\n",
    "response = requests.get(topic_page, headers=headers)\n",
    "soup = BeautifulSoup(response.text, 'html.parser')\n",
    "topics = [e.find('a')['href'] for e in soup.find('ul', {'id':'menu-main', 'class':'menu'}) \\\n",
    "           .find_all('li')]"
   ]
  },
  {
   "cell_type": "code",
   "execution_count": 17,
   "id": "1d70e04a",
   "metadata": {},
   "outputs": [],
   "source": [
    "a = topics[0]"
   ]
  },
  {
   "cell_type": "code",
   "execution_count": 18,
   "id": "49f2f635",
   "metadata": {},
   "outputs": [
    {
     "data": {
      "text/plain": [
       "'https://insideclimatenews.org/category/science/'"
      ]
     },
     "execution_count": 18,
     "metadata": {},
     "output_type": "execute_result"
    }
   ],
   "source": [
    "a"
   ]
  },
  {
   "cell_type": "code",
   "execution_count": 29,
   "id": "cefab070",
   "metadata": {},
   "outputs": [
    {
     "data": {
      "application/vnd.jupyter.widget-view+json": {
       "model_id": "d6a3c9333ddc4d4ebd3d7de3106dd095",
       "version_major": 2,
       "version_minor": 0
      },
      "text/plain": [
       "  0%|          | 0/5 [00:00<?, ?it/s]"
      ]
     },
     "metadata": {},
     "output_type": "display_data"
    },
    {
     "data": {
      "application/vnd.jupyter.widget-view+json": {
       "model_id": "1c37c032a1d7489794adc21dc1474567",
       "version_major": 2,
       "version_minor": 0
      },
      "text/plain": [
       "  0%|          | 0/71 [00:00<?, ?it/s]"
      ]
     },
     "metadata": {},
     "output_type": "display_data"
    },
    {
     "data": {
      "application/vnd.jupyter.widget-view+json": {
       "model_id": "e8b2322da9f545479c7af7e2b9f7d908",
       "version_major": 2,
       "version_minor": 0
      },
      "text/plain": [
       "  0%|          | 0/135 [00:00<?, ?it/s]"
      ]
     },
     "metadata": {},
     "output_type": "display_data"
    },
    {
     "data": {
      "application/vnd.jupyter.widget-view+json": {
       "model_id": "f313dc04f5434697a95e2386a586b729",
       "version_major": 2,
       "version_minor": 0
      },
      "text/plain": [
       "  0%|          | 0/16 [00:00<?, ?it/s]"
      ]
     },
     "metadata": {},
     "output_type": "display_data"
    },
    {
     "data": {
      "application/vnd.jupyter.widget-view+json": {
       "model_id": "5eb24fcae3064d67a8e1ab646e385ea3",
       "version_major": 2,
       "version_minor": 0
      },
      "text/plain": [
       "  0%|          | 0/83 [00:00<?, ?it/s]"
      ]
     },
     "metadata": {},
     "output_type": "display_data"
    },
    {
     "data": {
      "application/vnd.jupyter.widget-view+json": {
       "model_id": "430351a704524edc98c11350ac2e6f1c",
       "version_major": 2,
       "version_minor": 0
      },
      "text/plain": [
       "  0%|          | 0/73 [00:00<?, ?it/s]"
      ]
     },
     "metadata": {},
     "output_type": "display_data"
    }
   ],
   "source": [
    "article_links = []\n",
    "for topic in tqdm(topics):\n",
    "    \n",
    "    response = requests.get(topic, headers=headers)\n",
    "    soup = BeautifulSoup(response.text, 'html.parser')\n",
    "    last_page = int(soup.find_all('a', {'class':'page-numbers'})[-2].text \\\n",
    "                    .replace(\"\\n\", \"\").replace(\",\", \"\"))\n",
    "\n",
    "    for page in trange(1, last_page+1):\n",
    "        url = topic + 'page/{}/'.format(page)\n",
    "\n",
    "        response = requests.get(url, headers=headers)\n",
    "        soup = BeautifulSoup(response.text, 'html.parser')\n",
    "\n",
    "        new_links = [e['href'] for e in soup.find('div', {'class':'posts-list'}).find_all('a')]\n",
    "        article_links.extend(new_links)"
   ]
  },
  {
   "cell_type": "code",
   "execution_count": 30,
   "id": "026e22a2",
   "metadata": {},
   "outputs": [
    {
     "name": "stdout",
     "output_type": "stream",
     "text": [
      "6814\n",
      "5742\n"
     ]
    }
   ],
   "source": [
    "article_links_unique = list(set(article_links))\n",
    "print(len(article_links))\n",
    "print(len(article_links_unique))"
   ]
  },
  {
   "cell_type": "code",
   "execution_count": 52,
   "id": "69aca112",
   "metadata": {},
   "outputs": [],
   "source": [
    "def get_article_data(article):\n",
    "\n",
    "    art_dict = {'url':article}\n",
    "    \n",
    "    response = requests.get(article, headers=headers)\n",
    "    soup = BeautifulSoup(response.text, 'html.parser')\n",
    "    \n",
    "    try:\n",
    "        art_dict['title']    = soup.find('h1', {'class':'entry-title'}).text \\\n",
    "                                   .replace(\"\\n\", \"\")\n",
    "    except:\n",
    "        pass\n",
    "        #print(\"Missing title\")\n",
    "    \n",
    "    try:\n",
    "        art_dict['subtitle']    = soup.find('h2', {'class':'entry-subtitle'}).text \\\n",
    "                                   .replace(\"\\n\", \"\")\n",
    "    except:\n",
    "        pass\n",
    "        #print(\"Missing subtitle\")\n",
    "\n",
    "    try:\n",
    "        author = soup.find('div', {'class':'byline'}).text.replace(\"\\n\", \"\")\n",
    "        if author[:3] == \"By \":\n",
    "            author = author[3:]\n",
    "        art_dict['author'] = author\n",
    "    except:\n",
    "        pass\n",
    "        #print(\"Missing author\")\n",
    "    \n",
    "    try:\n",
    "        art_dict['date']    = soup.find('div', {'class':'date'}).text \\\n",
    "                                   .replace(\"\\n\", \"\")\n",
    "    except:\n",
    "        pass\n",
    "        #print(\"Missing date\")\n",
    "\n",
    "    try:\n",
    "        art_dict['text']    = \" \".join([p.text for p in soup.find('div', {'class':'entry-content'}) \\\n",
    "                                                           .findChildren('p', recursive=False)])\n",
    "    except:\n",
    "        pass\n",
    "        #print(\"Missing text\")\n",
    "    \n",
    "    return art_dict"
   ]
  },
  {
   "cell_type": "code",
   "execution_count": 53,
   "id": "05d25f7f",
   "metadata": {},
   "outputs": [
    {
     "data": {
      "application/vnd.jupyter.widget-view+json": {
       "model_id": "6f6a0a680241494aa899b759371b1e17",
       "version_major": 2,
       "version_minor": 0
      },
      "text/plain": [
       "  0%|          | 0/5742 [00:00<?, ?it/s]"
      ]
     },
     "metadata": {},
     "output_type": "display_data"
    }
   ],
   "source": [
    "icn = []\n",
    "\n",
    "for article in tqdm(article_links_unique):\n",
    "    icn.append(get_article_data(article))\n",
    "\n",
    "icn_df = pd.DataFrame(icn)"
   ]
  },
  {
   "cell_type": "code",
   "execution_count": 55,
   "id": "1cc17550",
   "metadata": {},
   "outputs": [],
   "source": [
    "icn_df.to_pickle(\"../Data/Inside Climate News/icn.pkl\")"
   ]
  },
  {
   "cell_type": "code",
   "execution_count": null,
   "id": "718d9ace",
   "metadata": {},
   "outputs": [],
   "source": []
  }
 ],
 "metadata": {
  "kernelspec": {
   "display_name": "Python 3 (ipykernel)",
   "language": "python",
   "name": "python3"
  },
  "language_info": {
   "codemirror_mode": {
    "name": "ipython",
    "version": 3
   },
   "file_extension": ".py",
   "mimetype": "text/x-python",
   "name": "python",
   "nbconvert_exporter": "python",
   "pygments_lexer": "ipython3",
   "version": "3.9.7"
  }
 },
 "nbformat": 4,
 "nbformat_minor": 5
}
