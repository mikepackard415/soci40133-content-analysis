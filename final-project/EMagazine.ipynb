{
 "cells": [
  {
   "cell_type": "code",
   "execution_count": 1,
   "id": "72412e03",
   "metadata": {},
   "outputs": [],
   "source": [
    "import requests\n",
    "from bs4 import BeautifulSoup\n",
    "import time\n",
    "import pandas as pd"
   ]
  },
  {
   "cell_type": "code",
   "execution_count": 2,
   "id": "c2bd8c39",
   "metadata": {},
   "outputs": [],
   "source": [
    "response = requests.get('https://emagazine.com/archive/')\n",
    "soup = BeautifulSoup(response.text, 'html.parser')"
   ]
  },
  {
   "cell_type": "code",
   "execution_count": 3,
   "id": "a39b8605",
   "metadata": {},
   "outputs": [],
   "source": [
    "articles = soup.find_all('article')"
   ]
  },
  {
   "cell_type": "code",
   "execution_count": 4,
   "id": "37b868d3",
   "metadata": {},
   "outputs": [],
   "source": [
    "user_agent = 'Mozilla/5.0 (Windows NT 10.0; Win64; x64) AppleWebKit/537.36 (KHTML, like Gecko) Chrome/91.0.4472.114 Safari/537.36'\n",
    "referer = 'https://www.resilience.org/latest-articles/'\n",
    "headers = {'User-Agent': user_agent, 'referer':referer}"
   ]
  },
  {
   "cell_type": "code",
   "execution_count": 29,
   "id": "86808816",
   "metadata": {},
   "outputs": [],
   "source": [
    "titles =[]\n",
    "links = []\n",
    "\n",
    "for page in range(1, 9):\n",
    "    \n",
    "    response = requests.get('https://emagazine.com/archive/page/{}/'.format(page), headers=headers)\n",
    "    soup = BeautifulSoup(response.text, 'html.parser')\n",
    "\n",
    "    articles = soup.find_all('article')\n",
    "    \n",
    "    for article in articles:\n",
    "    \n",
    "        title_link = article.find('h2', {'class':'post-title entry-title'})\n",
    "        titles.append(title_link.text)\n",
    "        links.append(title_link.find('a')['href'])"
   ]
  },
  {
   "cell_type": "code",
   "execution_count": 30,
   "id": "5c1fb266",
   "metadata": {},
   "outputs": [],
   "source": [
    "emag = pd.DataFrame({'title':titles, 'link':links})"
   ]
  },
  {
   "cell_type": "code",
   "execution_count": null,
   "id": "3c0fe8d5",
   "metadata": {},
   "outputs": [],
   "source": [
    "emag.head("
   ]
  },
  {
   "cell_type": "code",
   "execution_count": null,
   "id": "b57b4b64",
   "metadata": {},
   "outputs": [],
   "source": [
    "t0 = time.time()\n",
    "time.sleep(4)\n",
    "print(time.time() - t0 + 60)"
   ]
  },
  {
   "cell_type": "code",
   "execution_count": 10,
   "id": "fabb6b85",
   "metadata": {},
   "outputs": [],
   "source": [
    "import ast"
   ]
  },
  {
   "cell_type": "code",
   "execution_count": 31,
   "id": "f4b3dc3f",
   "metadata": {},
   "outputs": [
    {
     "name": "stdout",
     "output_type": "stream",
     "text": [
      "0 7.907549540201822e-06\n"
     ]
    }
   ],
   "source": [
    "link_attributes2 = {}\n",
    "t0 = time.time()\n",
    "for i in range(0, len(emag.link)):\n",
    "    \n",
    "    if i % 200 == 0:\n",
    "        print(i, (time.time() - t0) / 60)\n",
    "\n",
    "    link = emag.link.iloc[i]\n",
    "    response = requests.get(link, headers=headers)\n",
    "    soup = BeautifulSoup(response.text, 'html.parser')\n",
    "    \n",
    "\n",
    "    footer = soup.find_all('script', {'type':'application/ld+json'})[-1].text\n",
    "    f = ast.literal_eval(footer)\n",
    "    try:\n",
    "        date = f[0]['datePublished'][:10]\n",
    "    except:\n",
    "        print(link, \"no date\")\n",
    "        date = ''\n",
    "    \n",
    "    try:\n",
    "        author = f[0]['author']['name']\n",
    "    except:\n",
    "        print(link, \"no author\")\n",
    "        author = ''\n",
    "    \n",
    "    text = \" \".join([p.text for p in soup.find('div', {'class':'entry-content'}).find_all('p')])\n",
    "    text = text.replace('\\xa0', '')\n",
    "    \n",
    "    attributes = {'link':link, 'date':date, 'author':author, 'text':text}\n",
    "    link_attributes2[i] = attributes"
   ]
  },
  {
   "cell_type": "code",
   "execution_count": 13,
   "id": "16a73bed",
   "metadata": {},
   "outputs": [
    {
     "data": {
      "text/plain": [
       "70"
      ]
     },
     "execution_count": 13,
     "metadata": {},
     "output_type": "execute_result"
    }
   ],
   "source": [
    "len(link_attributes2)"
   ]
  },
  {
   "cell_type": "code",
   "execution_count": 32,
   "id": "8b948e0a",
   "metadata": {},
   "outputs": [],
   "source": [
    "emag['link'] = [link_attributes2[i]['link'] for i in range(80)]\n",
    "emag['date'] = [link_attributes2[i]['date'] for i in range(80)]\n",
    "emag['author'] = [link_attributes2[i]['author'] for i in range(80)]\n",
    "emag['text'] = [link_attributes2[i]['text'] for i in range(80)]"
   ]
  },
  {
   "cell_type": "code",
   "execution_count": 28,
   "id": "60033bfb",
   "metadata": {},
   "outputs": [
    {
     "ename": "KeyError",
     "evalue": "'title'",
     "output_type": "error",
     "traceback": [
      "\u001b[0;31m---------------------------------------------------------------------------\u001b[0m",
      "\u001b[0;31mKeyError\u001b[0m                                  Traceback (most recent call last)",
      "\u001b[0;32m/tmp/ipykernel_436/692847423.py\u001b[0m in \u001b[0;36m<module>\u001b[0;34m\u001b[0m\n\u001b[0;32m----> 1\u001b[0;31m emag_new = pd.DataFrame({'title': [link_attributes2[i]['title'] for i in range(80)],\n\u001b[0m\u001b[1;32m      2\u001b[0m                       \u001b[0;34m'link'\u001b[0m\u001b[0;34m:\u001b[0m   \u001b[0;34m[\u001b[0m\u001b[0mlink_attributes2\u001b[0m\u001b[0;34m[\u001b[0m\u001b[0mi\u001b[0m\u001b[0;34m]\u001b[0m\u001b[0;34m[\u001b[0m\u001b[0;34m'link'\u001b[0m\u001b[0;34m]\u001b[0m \u001b[0;32mfor\u001b[0m \u001b[0mi\u001b[0m \u001b[0;32min\u001b[0m \u001b[0mrange\u001b[0m\u001b[0;34m(\u001b[0m\u001b[0;36m80\u001b[0m\u001b[0;34m)\u001b[0m\u001b[0;34m]\u001b[0m\u001b[0;34m,\u001b[0m\u001b[0;34m\u001b[0m\u001b[0;34m\u001b[0m\u001b[0m\n\u001b[1;32m      3\u001b[0m                       \u001b[0;34m'date'\u001b[0m\u001b[0;34m:\u001b[0m   \u001b[0;34m[\u001b[0m\u001b[0mlink_attributes2\u001b[0m\u001b[0;34m[\u001b[0m\u001b[0mi\u001b[0m\u001b[0;34m]\u001b[0m\u001b[0;34m[\u001b[0m\u001b[0;34m'date'\u001b[0m\u001b[0;34m]\u001b[0m \u001b[0;32mfor\u001b[0m \u001b[0mi\u001b[0m \u001b[0;32min\u001b[0m \u001b[0mrange\u001b[0m\u001b[0;34m(\u001b[0m\u001b[0;36m80\u001b[0m\u001b[0;34m)\u001b[0m\u001b[0;34m]\u001b[0m\u001b[0;34m,\u001b[0m\u001b[0;34m\u001b[0m\u001b[0;34m\u001b[0m\u001b[0m\n\u001b[1;32m      4\u001b[0m                       \u001b[0;34m'author'\u001b[0m\u001b[0;34m:\u001b[0m \u001b[0;34m[\u001b[0m\u001b[0mlink_attributes2\u001b[0m\u001b[0;34m[\u001b[0m\u001b[0mi\u001b[0m\u001b[0;34m]\u001b[0m\u001b[0;34m[\u001b[0m\u001b[0;34m'author'\u001b[0m\u001b[0;34m]\u001b[0m \u001b[0;32mfor\u001b[0m \u001b[0mi\u001b[0m \u001b[0;32min\u001b[0m \u001b[0mrange\u001b[0m\u001b[0;34m(\u001b[0m\u001b[0;36m80\u001b[0m\u001b[0;34m)\u001b[0m\u001b[0;34m]\u001b[0m\u001b[0;34m,\u001b[0m\u001b[0;34m\u001b[0m\u001b[0;34m\u001b[0m\u001b[0m\n\u001b[1;32m      5\u001b[0m                       'text':   [link_attributes2[i]['text'] for i in range(80)]})\n",
      "\u001b[0;32m/tmp/ipykernel_436/692847423.py\u001b[0m in \u001b[0;36m<listcomp>\u001b[0;34m(.0)\u001b[0m\n\u001b[0;32m----> 1\u001b[0;31m emag_new = pd.DataFrame({'title': [link_attributes2[i]['title'] for i in range(80)],\n\u001b[0m\u001b[1;32m      2\u001b[0m                       \u001b[0;34m'link'\u001b[0m\u001b[0;34m:\u001b[0m   \u001b[0;34m[\u001b[0m\u001b[0mlink_attributes2\u001b[0m\u001b[0;34m[\u001b[0m\u001b[0mi\u001b[0m\u001b[0;34m]\u001b[0m\u001b[0;34m[\u001b[0m\u001b[0;34m'link'\u001b[0m\u001b[0;34m]\u001b[0m \u001b[0;32mfor\u001b[0m \u001b[0mi\u001b[0m \u001b[0;32min\u001b[0m \u001b[0mrange\u001b[0m\u001b[0;34m(\u001b[0m\u001b[0;36m80\u001b[0m\u001b[0;34m)\u001b[0m\u001b[0;34m]\u001b[0m\u001b[0;34m,\u001b[0m\u001b[0;34m\u001b[0m\u001b[0;34m\u001b[0m\u001b[0m\n\u001b[1;32m      3\u001b[0m                       \u001b[0;34m'date'\u001b[0m\u001b[0;34m:\u001b[0m   \u001b[0;34m[\u001b[0m\u001b[0mlink_attributes2\u001b[0m\u001b[0;34m[\u001b[0m\u001b[0mi\u001b[0m\u001b[0;34m]\u001b[0m\u001b[0;34m[\u001b[0m\u001b[0;34m'date'\u001b[0m\u001b[0;34m]\u001b[0m \u001b[0;32mfor\u001b[0m \u001b[0mi\u001b[0m \u001b[0;32min\u001b[0m \u001b[0mrange\u001b[0m\u001b[0;34m(\u001b[0m\u001b[0;36m80\u001b[0m\u001b[0;34m)\u001b[0m\u001b[0;34m]\u001b[0m\u001b[0;34m,\u001b[0m\u001b[0;34m\u001b[0m\u001b[0;34m\u001b[0m\u001b[0m\n\u001b[1;32m      4\u001b[0m                       \u001b[0;34m'author'\u001b[0m\u001b[0;34m:\u001b[0m \u001b[0;34m[\u001b[0m\u001b[0mlink_attributes2\u001b[0m\u001b[0;34m[\u001b[0m\u001b[0mi\u001b[0m\u001b[0;34m]\u001b[0m\u001b[0;34m[\u001b[0m\u001b[0;34m'author'\u001b[0m\u001b[0;34m]\u001b[0m \u001b[0;32mfor\u001b[0m \u001b[0mi\u001b[0m \u001b[0;32min\u001b[0m \u001b[0mrange\u001b[0m\u001b[0;34m(\u001b[0m\u001b[0;36m80\u001b[0m\u001b[0;34m)\u001b[0m\u001b[0;34m]\u001b[0m\u001b[0;34m,\u001b[0m\u001b[0;34m\u001b[0m\u001b[0;34m\u001b[0m\u001b[0m\n\u001b[1;32m      5\u001b[0m                       'text':   [link_attributes2[i]['text'] for i in range(80)]})\n",
      "\u001b[0;31mKeyError\u001b[0m: 'title'"
     ]
    }
   ],
   "source": [
    "emag_new = pd.DataFrame({'title': [link_attributes2[i]['title'] for i in range(80)],\n",
    "                      'link':   [link_attributes2[i]['link'] for i in range(80)],\n",
    "                      'date':   [link_attributes2[i]['date'] for i in range(80)],\n",
    "                      'author': [link_attributes2[i]['author'] for i in range(80)],\n",
    "                      'text':   [link_attributes2[i]['text'] for i in range(80)]})"
   ]
  },
  {
   "cell_type": "code",
   "execution_count": null,
   "id": "6208f195",
   "metadata": {},
   "outputs": [],
   "source": [
    "emag2 = pd.DataFrame({'link':   [link_attributes[i]['link'] for i in range(3304)],\n",
    "                      'date':   [link_attributes[i]['date'] for i in range(3304)],\n",
    "                      'author': [link_attributes[i]['author'] for i in range(3304)],\n",
    "                      'text':   [link_attributes[i]['text'] for i in range(3304)]})\n",
    "\n",
    "emag3 = pd.DataFrame({'link':   [link_attributes2[i]['link'] for i in range(3304, 7915)],\n",
    "                      'date':   [link_attributes2[i]['date'] for i in range(3304, 7915)],\n",
    "                      'author': [link_attributes2[i]['author'] for i in range(3304, 7915)],\n",
    "                      'text':   [link_attributes2[i]['text'] for i in range(3304, 7915)]})"
   ]
  },
  {
   "cell_type": "code",
   "execution_count": null,
   "id": "69d70966",
   "metadata": {},
   "outputs": [],
   "source": [
    "emag.to_pickle('../Data/Emagazine/emag.pkl')\n",
    "emag2.to_pickle('../Data/Emagazine/emag2.pkl')#\n",
    "emag3.to_pickle('../Data/Emagazine/emag3.pkl')"
   ]
  },
  {
   "cell_type": "code",
   "execution_count": 33,
   "id": "813b483e",
   "metadata": {},
   "outputs": [],
   "source": [
    "emag  = pd.read_pickle('../Data/Emagazine/emag.pkl')\n",
    "emag2 = pd.read_pickle('../Data/Emagazine/emag2.pkl')\n",
    "emag3 = pd.read_pickle('../Data/Emagazine/emag3.pkl')\n",
    "text = pd.read_pickle('../Data/Emagazine/emag4.pkl')"
   ]
  },
  {
   "cell_type": "code",
   "execution_count": 34,
   "id": "6f5c4ea7",
   "metadata": {},
   "outputs": [],
   "source": [
    "date_author = pd.concat([emag2, emag3])[['link', 'date', 'author']].reset_index()\n",
    "date_author['index'] = date_author.index\n",
    "emag['index'] = emag.reset_index().index\n",
    "text['index'] = text.reset_index().index"
   ]
  },
  {
   "cell_type": "code",
   "execution_count": 35,
   "id": "d59e2e91",
   "metadata": {},
   "outputs": [],
   "source": [
    "emag = emag.merge(date_author, on=['link', 'index'], how='left')\n",
    "emag = emag.merge(text, on=['link', 'index'], how='left')"
   ]
  },
  {
   "cell_type": "code",
   "execution_count": 37,
   "id": "59f94159",
   "metadata": {},
   "outputs": [],
   "source": [
    "emag.to_pickle('../Data/Emagazine/emag_final.pkl')"
   ]
  },
  {
   "cell_type": "code",
   "execution_count": 4,
   "id": "4a4a1cd1",
   "metadata": {},
   "outputs": [
    {
     "data": {
      "text/html": [
       "<div>\n",
       "<style scoped>\n",
       "    .dataframe tbody tr th:only-of-type {\n",
       "        vertical-align: middle;\n",
       "    }\n",
       "\n",
       "    .dataframe tbody tr th {\n",
       "        vertical-align: top;\n",
       "    }\n",
       "\n",
       "    .dataframe thead th {\n",
       "        text-align: right;\n",
       "    }\n",
       "</style>\n",
       "<table border=\"1\" class=\"dataframe\">\n",
       "  <thead>\n",
       "    <tr style=\"text-align: right;\">\n",
       "      <th></th>\n",
       "      <th>link</th>\n",
       "      <th>date</th>\n",
       "      <th>author</th>\n",
       "      <th>text</th>\n",
       "    </tr>\n",
       "  </thead>\n",
       "  <tbody>\n",
       "    <tr>\n",
       "      <th>0</th>\n",
       "      <td>https://emagazine.com/roof-replacement/</td>\n",
       "      <td>2021-12-05</td>\n",
       "      <td>E - The Environmental Magazine</td>\n",
       "      <td>Imagine stretching out on the couch, a World ...</td>\n",
       "    </tr>\n",
       "    <tr>\n",
       "      <th>1</th>\n",
       "      <td>https://emagazine.com/homesteading-safely/</td>\n",
       "      <td>2021-12-05</td>\n",
       "      <td>E - The Environmental Magazine</td>\n",
       "      <td>Imagine stretching out on the couch, a World ...</td>\n",
       "    </tr>\n",
       "    <tr>\n",
       "      <th>2</th>\n",
       "      <td>https://emagazine.com/why-its-important-to-use...</td>\n",
       "      <td>2021-12-05</td>\n",
       "      <td>E - The Environmental Magazine</td>\n",
       "      <td>Imagine stretching out on the couch, a World ...</td>\n",
       "    </tr>\n",
       "    <tr>\n",
       "      <th>3</th>\n",
       "      <td>https://emagazine.com/nornickel-lifts-up-inves...</td>\n",
       "      <td>2021-12-02</td>\n",
       "      <td>E - The Environmental Magazine</td>\n",
       "      <td>Imagine stretching out on the couch, a World ...</td>\n",
       "    </tr>\n",
       "    <tr>\n",
       "      <th>4</th>\n",
       "      <td>https://emagazine.com/ocean-winds-bringing-us-...</td>\n",
       "      <td>2021-12-02</td>\n",
       "      <td>H. Bruce Franklin</td>\n",
       "      <td>Imagine stretching out on the couch, a World ...</td>\n",
       "    </tr>\n",
       "  </tbody>\n",
       "</table>\n",
       "</div>"
      ],
      "text/plain": [
       "                                                link        date  \\\n",
       "0            https://emagazine.com/roof-replacement/  2021-12-05   \n",
       "1         https://emagazine.com/homesteading-safely/  2021-12-05   \n",
       "2  https://emagazine.com/why-its-important-to-use...  2021-12-05   \n",
       "3  https://emagazine.com/nornickel-lifts-up-inves...  2021-12-02   \n",
       "4  https://emagazine.com/ocean-winds-bringing-us-...  2021-12-02   \n",
       "\n",
       "                           author  \\\n",
       "0  E - The Environmental Magazine   \n",
       "1  E - The Environmental Magazine   \n",
       "2  E - The Environmental Magazine   \n",
       "3  E - The Environmental Magazine   \n",
       "4               H. Bruce Franklin   \n",
       "\n",
       "                                                text  \n",
       "0   Imagine stretching out on the couch, a World ...  \n",
       "1   Imagine stretching out on the couch, a World ...  \n",
       "2   Imagine stretching out on the couch, a World ...  \n",
       "3   Imagine stretching out on the couch, a World ...  \n",
       "4   Imagine stretching out on the couch, a World ...  "
      ]
     },
     "execution_count": 4,
     "metadata": {},
     "output_type": "execute_result"
    }
   ],
   "source": [
    "emag2.head()"
   ]
  },
  {
   "cell_type": "code",
   "execution_count": 27,
   "id": "df379f39",
   "metadata": {},
   "outputs": [
    {
     "data": {
      "text/html": [
       "<div>\n",
       "<style scoped>\n",
       "    .dataframe tbody tr th:only-of-type {\n",
       "        vertical-align: middle;\n",
       "    }\n",
       "\n",
       "    .dataframe tbody tr th {\n",
       "        vertical-align: top;\n",
       "    }\n",
       "\n",
       "    .dataframe thead th {\n",
       "        text-align: right;\n",
       "    }\n",
       "</style>\n",
       "<table border=\"1\" class=\"dataframe\">\n",
       "  <thead>\n",
       "    <tr style=\"text-align: right;\">\n",
       "      <th></th>\n",
       "      <th>link</th>\n",
       "      <th>date</th>\n",
       "      <th>author</th>\n",
       "      <th>text</th>\n",
       "    </tr>\n",
       "  </thead>\n",
       "  <tbody>\n",
       "    <tr>\n",
       "      <th>0</th>\n",
       "      <td>https://emagazine.com/how-to-become-a-sustaina...</td>\n",
       "      <td>2022-02-05</td>\n",
       "      <td>E - The Environmental Magazine</td>\n",
       "      <td>Are you looking for different influence option...</td>\n",
       "    </tr>\n",
       "    <tr>\n",
       "      <th>1</th>\n",
       "      <td>https://emagazine.com/lithium-battery-waste/</td>\n",
       "      <td>2022-02-03</td>\n",
       "      <td>Lindsey Blomberg</td>\n",
       "      <td>—W. Alexander, San Francisco, CA Record-breaki...</td>\n",
       "    </tr>\n",
       "    <tr>\n",
       "      <th>2</th>\n",
       "      <td>https://emagazine.com/make-your-business-more-...</td>\n",
       "      <td>2022-02-02</td>\n",
       "      <td>E - The Environmental Magazine</td>\n",
       "      <td>Sustainability is key for the future of our pl...</td>\n",
       "    </tr>\n",
       "    <tr>\n",
       "      <th>3</th>\n",
       "      <td>https://emagazine.com/what-gear-should-you-hav...</td>\n",
       "      <td>2022-02-02</td>\n",
       "      <td>E - The Environmental Magazine</td>\n",
       "      <td>Are you planning to visit the wilderness? Whe...</td>\n",
       "    </tr>\n",
       "    <tr>\n",
       "      <th>4</th>\n",
       "      <td>https://emagazine.com/easy-and-eco-friendly-wa...</td>\n",
       "      <td>2022-02-02</td>\n",
       "      <td>E - The Environmental Magazine</td>\n",
       "      <td>The process of renovating a home to increase i...</td>\n",
       "    </tr>\n",
       "    <tr>\n",
       "      <th>...</th>\n",
       "      <td>...</td>\n",
       "      <td>...</td>\n",
       "      <td>...</td>\n",
       "      <td>...</td>\n",
       "    </tr>\n",
       "    <tr>\n",
       "      <th>75</th>\n",
       "      <td>https://emagazine.com/the-top-4-reasons-to-buy...</td>\n",
       "      <td>2021-12-10</td>\n",
       "      <td>E - The Environmental Magazine</td>\n",
       "      <td>A dog crate is an enclosure made of plastic, w...</td>\n",
       "    </tr>\n",
       "    <tr>\n",
       "      <th>76</th>\n",
       "      <td>https://emagazine.com/lessons-learned_montreal...</td>\n",
       "      <td>2021-12-09</td>\n",
       "      <td>Roddy Scheer and Doug Moss</td>\n",
       "      <td>—C. Marin, St. Louis, MO 1987’s Montreal Proto...</td>\n",
       "    </tr>\n",
       "    <tr>\n",
       "      <th>77</th>\n",
       "      <td>https://emagazine.com/youth-climate-activists/</td>\n",
       "      <td>2021-12-09</td>\n",
       "      <td>Jane Marsh</td>\n",
       "      <td>Whitney Houston once sang that the children ar...</td>\n",
       "    </tr>\n",
       "    <tr>\n",
       "      <th>78</th>\n",
       "      <td>https://emagazine.com/life-in-plastic-new-book...</td>\n",
       "      <td>2021-12-09</td>\n",
       "      <td>E - The Environmental Magazine</td>\n",
       "      <td>The essays in the new book Life in Plastic: Ar...</td>\n",
       "    </tr>\n",
       "    <tr>\n",
       "      <th>79</th>\n",
       "      <td>https://emagazine.com/top-ways-to-make-sure-yo...</td>\n",
       "      <td>2021-12-06</td>\n",
       "      <td>E - The Environmental Magazine</td>\n",
       "      <td>Looking after your garden is essential to ensu...</td>\n",
       "    </tr>\n",
       "  </tbody>\n",
       "</table>\n",
       "<p>80 rows × 4 columns</p>\n",
       "</div>"
      ],
      "text/plain": [
       "                                                 link        date  \\\n",
       "0   https://emagazine.com/how-to-become-a-sustaina...  2022-02-05   \n",
       "1        https://emagazine.com/lithium-battery-waste/  2022-02-03   \n",
       "2   https://emagazine.com/make-your-business-more-...  2022-02-02   \n",
       "3   https://emagazine.com/what-gear-should-you-hav...  2022-02-02   \n",
       "4   https://emagazine.com/easy-and-eco-friendly-wa...  2022-02-02   \n",
       "..                                                ...         ...   \n",
       "75  https://emagazine.com/the-top-4-reasons-to-buy...  2021-12-10   \n",
       "76  https://emagazine.com/lessons-learned_montreal...  2021-12-09   \n",
       "77     https://emagazine.com/youth-climate-activists/  2021-12-09   \n",
       "78  https://emagazine.com/life-in-plastic-new-book...  2021-12-09   \n",
       "79  https://emagazine.com/top-ways-to-make-sure-yo...  2021-12-06   \n",
       "\n",
       "                            author  \\\n",
       "0   E - The Environmental Magazine   \n",
       "1                 Lindsey Blomberg   \n",
       "2   E - The Environmental Magazine   \n",
       "3   E - The Environmental Magazine   \n",
       "4   E - The Environmental Magazine   \n",
       "..                             ...   \n",
       "75  E - The Environmental Magazine   \n",
       "76      Roddy Scheer and Doug Moss   \n",
       "77                      Jane Marsh   \n",
       "78  E - The Environmental Magazine   \n",
       "79  E - The Environmental Magazine   \n",
       "\n",
       "                                                 text  \n",
       "0   Are you looking for different influence option...  \n",
       "1   —W. Alexander, San Francisco, CA Record-breaki...  \n",
       "2   Sustainability is key for the future of our pl...  \n",
       "3    Are you planning to visit the wilderness? Whe...  \n",
       "4   The process of renovating a home to increase i...  \n",
       "..                                                ...  \n",
       "75  A dog crate is an enclosure made of plastic, w...  \n",
       "76  —C. Marin, St. Louis, MO 1987’s Montreal Proto...  \n",
       "77  Whitney Houston once sang that the children ar...  \n",
       "78  The essays in the new book Life in Plastic: Ar...  \n",
       "79  Looking after your garden is essential to ensu...  \n",
       "\n",
       "[80 rows x 4 columns]"
      ]
     },
     "execution_count": 27,
     "metadata": {},
     "output_type": "execute_result"
    }
   ],
   "source": [
    "emag_new"
   ]
  },
  {
   "cell_type": "code",
   "execution_count": 33,
   "id": "976e76e1",
   "metadata": {},
   "outputs": [],
   "source": [
    "e = pd.read_pickle('../Data/Emagazine/emag_final.pkl')"
   ]
  },
  {
   "cell_type": "code",
   "execution_count": 34,
   "id": "7b440e30",
   "metadata": {},
   "outputs": [],
   "source": [
    "emag_new = pd.concat([e, emag])"
   ]
  },
  {
   "cell_type": "code",
   "execution_count": 36,
   "id": "6ddd539d",
   "metadata": {},
   "outputs": [],
   "source": [
    "emag_new = emag_new[['title', 'link', 'date', 'author', 'text']]"
   ]
  },
  {
   "cell_type": "code",
   "execution_count": 37,
   "id": "cac8b8a9",
   "metadata": {},
   "outputs": [],
   "source": [
    "emag_new.to_pickle('../Data/Emagazine/emag_final.pkl')"
   ]
  },
  {
   "cell_type": "code",
   "execution_count": null,
   "id": "ea8f7ce5",
   "metadata": {},
   "outputs": [],
   "source": [
    "e"
   ]
  },
  {
   "cell_type": "code",
   "execution_count": null,
   "id": "bde9dcfa",
   "metadata": {},
   "outputs": [],
   "source": [
    "list(emag.link).index(link)"
   ]
  },
  {
   "cell_type": "code",
   "execution_count": null,
   "id": "c53b17f9",
   "metadata": {},
   "outputs": [],
   "source": [
    "sample_link = emag.link.iloc[7000]"
   ]
  },
  {
   "cell_type": "code",
   "execution_count": null,
   "id": "01ecb2d3",
   "metadata": {},
   "outputs": [],
   "source": [
    "roof = requests.get(sample_link, headers=headers)\n",
    "roof_soup = BeautifulSoup(roof.text, 'html.parser')"
   ]
  },
  {
   "cell_type": "code",
   "execution_count": null,
   "id": "2abead56",
   "metadata": {},
   "outputs": [],
   "source": [
    "footer = roof_soup.find_all('script', {'type':'application/ld+json'})[-1].text"
   ]
  },
  {
   "cell_type": "code",
   "execution_count": null,
   "id": "9ad7df53",
   "metadata": {},
   "outputs": [],
   "source": [
    "f = ast.literal_eval(footer)\n",
    "date = f[0]['datePublished'][:10]\n",
    "author = f[0]['author']['name']"
   ]
  },
  {
   "cell_type": "code",
   "execution_count": null,
   "id": "fe776559",
   "metadata": {},
   "outputs": [],
   "source": [
    "text = \" \".join([p.text for p in roof_soup.find('div', {'class':'entry-content'}).find_all('p')])\n",
    "text = text.replace('\\xa0', '')"
   ]
  },
  {
   "cell_type": "code",
   "execution_count": null,
   "id": "66b80c8e",
   "metadata": {},
   "outputs": [],
   "source": [
    "print(author)\n",
    "print(date)\n",
    "print(text)"
   ]
  },
  {
   "cell_type": "code",
   "execution_count": null,
   "id": "cab5dce0",
   "metadata": {},
   "outputs": [],
   "source": [
    "sample_link"
   ]
  },
  {
   "cell_type": "code",
   "execution_count": null,
   "id": "9058ee7d",
   "metadata": {},
   "outputs": [],
   "source": [
    "import json"
   ]
  },
  {
   "cell_type": "code",
   "execution_count": null,
   "id": "6dfb38ac",
   "metadata": {},
   "outputs": [],
   "source": [
    "import ast"
   ]
  },
  {
   "cell_type": "code",
   "execution_count": null,
   "id": "bd0eda59",
   "metadata": {},
   "outputs": [],
   "source": [
    "footer_list = footer.strip('][').split(',')"
   ]
  },
  {
   "cell_type": "code",
   "execution_count": null,
   "id": "a1a6f088",
   "metadata": {},
   "outputs": [],
   "source": [
    "footer_list"
   ]
  },
  {
   "cell_type": "code",
   "execution_count": null,
   "id": "6c6ebf20",
   "metadata": {},
   "outputs": [],
   "source": []
  },
  {
   "cell_type": "code",
   "execution_count": null,
   "id": "890d3ba3",
   "metadata": {},
   "outputs": [],
   "source": [
    "footer_dict = footer[1:footer.index('}')+1]"
   ]
  },
  {
   "cell_type": "code",
   "execution_count": null,
   "id": "cc9bfff5",
   "metadata": {},
   "outputs": [],
   "source": [
    "footer_dict"
   ]
  },
  {
   "cell_type": "markdown",
   "id": "a16ab616",
   "metadata": {},
   "source": [
    "#### sum(articles_per_page.values())"
   ]
  },
  {
   "cell_type": "code",
   "execution_count": null,
   "id": "fb097a77",
   "metadata": {},
   "outputs": [],
   "source": [
    "len(titles_links)"
   ]
  },
  {
   "cell_type": "code",
   "execution_count": null,
   "id": "963b965c",
   "metadata": {},
   "outputs": [],
   "source": []
  },
  {
   "cell_type": "code",
   "execution_count": null,
   "id": "1fd96de9",
   "metadata": {},
   "outputs": [],
   "source": [
    "for page in range(11, 15):\n",
    "    response = requests.get('https://emagazine.com/archive/page/{}/'.format(page), headers=headers)\n",
    "    soup = BeautifulSoup(response.text, 'html.parser')\n",
    "\n",
    "    articles = soup.find_all('article')\n",
    "    print(len(articles))"
   ]
  },
  {
   "cell_type": "code",
   "execution_count": null,
   "id": "b12800be",
   "metadata": {},
   "outputs": [],
   "source": [
    "soup"
   ]
  },
  {
   "cell_type": "code",
   "execution_count": null,
   "id": "7f15a02f",
   "metadata": {},
   "outputs": [],
   "source": [
    "len(titles_links)"
   ]
  },
  {
   "cell_type": "code",
   "execution_count": null,
   "id": "28a41a91",
   "metadata": {},
   "outputs": [],
   "source": [
    "articles"
   ]
  },
  {
   "cell_type": "markdown",
   "id": "df202f16",
   "metadata": {},
   "source": [
    "Plot articles/words over time"
   ]
  },
  {
   "cell_type": "code",
   "execution_count": 5,
   "id": "753c8652",
   "metadata": {},
   "outputs": [],
   "source": [
    "e = pd.read_pickle('../Data/Emagazine/emag_final.pkl')"
   ]
  },
  {
   "cell_type": "code",
   "execution_count": 7,
   "id": "8d4f520a",
   "metadata": {},
   "outputs": [],
   "source": [
    "e['wordcount'] = e.apply(lambda x: len(x.text.split()), axis=1)"
   ]
  },
  {
   "cell_type": "code",
   "execution_count": 9,
   "id": "038ac8a7",
   "metadata": {},
   "outputs": [
    {
     "data": {
      "text/plain": [
       "0       2021-12-05\n",
       "1       2021-12-05\n",
       "2       2021-12-05\n",
       "3       2021-12-02\n",
       "4       2021-12-02\n",
       "           ...    \n",
       "7910    2003-11-01\n",
       "7911    1997-07-01\n",
       "7912    1997-07-01\n",
       "7913    1997-03-01\n",
       "7914    1994-09-01\n",
       "Name: date, Length: 7915, dtype: object"
      ]
     },
     "execution_count": 9,
     "metadata": {},
     "output_type": "execute_result"
    }
   ],
   "source": [
    "e.date"
   ]
  },
  {
   "cell_type": "code",
   "execution_count": 16,
   "id": "6154539e",
   "metadata": {},
   "outputs": [],
   "source": [
    "e['date'] = e.date.apply(lambda x: pd.to_datetime(x))\n",
    "e['month'] = e.date.apply(lambda x: x.month)\n",
    "e['year'] = e.date.apply(lambda x: x.year)"
   ]
  },
  {
   "cell_type": "code",
   "execution_count": 18,
   "id": "6f4f5eea",
   "metadata": {},
   "outputs": [],
   "source": [
    "toplot = e.groupby(['year', 'month']).agg({'title':'count', 'wordcount':'mean', 'date':'min'})"
   ]
  },
  {
   "cell_type": "code",
   "execution_count": 19,
   "id": "ecfe1bd7",
   "metadata": {},
   "outputs": [],
   "source": [
    "import plotly.express as px"
   ]
  },
  {
   "cell_type": "code",
   "execution_count": 27,
   "id": "41b79db7",
   "metadata": {},
   "outputs": [
    {
     "data": {
      "application/vnd.plotly.v1+json": {
       "config": {
        "plotlyServerURL": "https://plot.ly"
       },
       "data": [
        {
         "hovertemplate": "Date=%{x}<br>Number of Articles=%{y}<br>wordcount=%{marker.size}<extra></extra>",
         "legendgroup": "",
         "marker": {
          "color": "#636efa",
          "size": [
           825.9473684210526,
           304.44776119402985,
           353.4769230769231,
           735,
           745.6153846153846,
           452.92391304347825,
           308.741935483871,
           565.25,
           1033.3333333333333,
           852.5777777777778,
           939.6875,
           980.125,
           735.0555555555555,
           762.2222222222222,
           1210.5483870967741,
           880.6222222222223,
           1282.6666666666667,
           875.1666666666666,
           1037.68,
           881.1785714285714,
           925.98,
           754.0588235294117,
           1075.2051282051282,
           1014.195652173913,
           998.3589743589744,
           756.6857142857143,
           1207.4146341463415,
           939.6862745098039,
           996,
           702.4166666666666,
           1014.4736842105264,
           807.6046511627907,
           1100.6333333333334,
           905.48,
           864.6428571428571,
           1075.095238095238,
           906.3888888888889,
           704.8409090909091,
           991.1621621621622,
           763.5116279069767,
           916.1333333333333,
           701.1041666666666,
           756.15625,
           688.2444444444444,
           920.5384615384615,
           595.9375,
           699.030303030303,
           929,
           641.3928571428571,
           747.2093023255813,
           691.1951219512196,
           712.9705882352941,
           816.1621621621622,
           714.6938775510204,
           712.4848484848485,
           676.6136363636364,
           677.7096774193549,
           655.0681818181819,
           731.7931034482758,
           1015.709090909091,
           1171.2142857142858,
           564.5116279069767,
           713.3783783783783,
           769.047619047619,
           618.24,
           938.2857142857143,
           557.0192307692307,
           664.6170212765958,
           778.3404255319149,
           717.8,
           648.2647058823529,
           33.83216783216783,
           471.9120879120879,
           248.7058823529412,
           503.703125,
           513,
           566.8181818181819,
           486.48571428571427,
           634.4909090909091,
           571.5882352941177,
           586.4137931034483,
           560.3090909090909,
           696.6969696969697,
           586.0357142857143,
           546.5333333333333,
           585.3461538461538,
           659.4464285714286,
           680.060606060606,
           534.2153846153847,
           611.8571428571429,
           654.4677419354839,
           675.6,
           668.0181818181818,
           617.4444444444445,
           545.9827586206897,
           617.8846153846154,
           577.0166666666667,
           587.84,
           621.1016949152543,
           631.9230769230769,
           612.0384615384615,
           546.6666666666666,
           538,
           549.7755102040817,
           543,
           801,
           516,
           422.6666666666667,
           715.7142857142857,
           369.5,
           585,
           743.5,
           809,
           465,
           610.4225352112676,
           631.6666666666666,
           500.6,
           561.5,
           526,
           513.6153846153846,
           524.1428571428571,
           508,
           533.6666666666666,
           525.6,
           513,
           528.75,
           370,
           508.75,
           710.2,
           534.6666666666666,
           549,
           553.8,
           521,
           546.5,
           534.6,
           526.5,
           517.5,
           501,
           708.5454545454545,
           517,
           529.25,
           562.6666666666666,
           626.5714285714286,
           541.5714285714286,
           542,
           588,
           555.25,
           523.5,
           508.25,
           508.6,
           621.5,
           725.8571428571429,
           989.5333333333333,
           689.2727272727273,
           675.9285714285714,
           669.047619047619,
           728.9090909090909,
           672.4285714285714,
           561.4615384615385,
           666.8181818181819,
           654.8333333333334,
           876.1428571428571,
           645.4444444444445,
           671.2352941176471,
           604.7142857142857,
           658.4285714285714,
           504.8666666666667,
           672.2666666666667,
           650.3571428571429,
           578.5555555555555,
           608,
           616.1333333333333,
           679.2222222222222,
           722.1538461538462,
           531,
           631.9230769230769,
           675.0666666666667,
           604.2105263157895,
           715.1702127659574,
           823.24,
           820.2608695652174,
           667.1379310344828,
           696.2424242424242,
           793,
           683.25,
           671.7916666666666,
           838.2222222222222,
           741.7916666666666,
           704.8809523809524,
           838.0208333333334,
           703.7317073170732,
           766.6,
           698.5,
           744.65,
           836.6571428571428,
           685.5277777777778,
           880.90625,
           650.375,
           871.8478260869565,
           735.2941176470588,
           779.4333333333333,
           713.0857142857143,
           1263.5714285714287
          ],
          "sizemode": "area",
          "sizeref": 3.206666666666667,
          "symbol": "circle"
         },
         "mode": "markers",
         "name": "",
         "orientation": "v",
         "showlegend": false,
         "type": "scatter",
         "x": [
          "2005-01-04T00:00:00",
          "2005-02-01T00:00:00",
          "2005-03-01T00:00:00",
          "2005-04-05T00:00:00",
          "2005-05-02T00:00:00",
          "2005-06-01T00:00:00",
          "2005-07-05T00:00:00",
          "2005-08-01T00:00:00",
          "2005-09-06T00:00:00",
          "2005-10-06T00:00:00",
          "2005-11-01T00:00:00",
          "2005-12-05T00:00:00",
          "2006-01-03T00:00:00",
          "2006-02-01T00:00:00",
          "2006-03-01T00:00:00",
          "2006-04-04T00:00:00",
          "2006-05-02T00:00:00",
          "2006-06-01T00:00:00",
          "2006-07-02T00:00:00",
          "2006-08-03T00:00:00",
          "2006-09-01T00:00:00",
          "2006-10-01T00:00:00",
          "2006-11-01T00:00:00",
          "2006-12-03T00:00:00",
          "2007-01-02T00:00:00",
          "2007-02-05T00:00:00",
          "2007-03-03T00:00:00",
          "2007-04-02T00:00:00",
          "2007-05-07T00:00:00",
          "2007-06-04T00:00:00",
          "2007-07-01T00:00:00",
          "2007-08-06T00:00:00",
          "2007-09-04T00:00:00",
          "2007-10-01T00:00:00",
          "2007-11-02T00:00:00",
          "2007-12-03T00:00:00",
          "2008-01-02T00:00:00",
          "2008-02-01T00:00:00",
          "2008-03-03T00:00:00",
          "2008-04-08T00:00:00",
          "2008-05-05T00:00:00",
          "2008-06-01T00:00:00",
          "2008-07-07T00:00:00",
          "2008-08-04T00:00:00",
          "2008-09-01T00:00:00",
          "2008-10-06T00:00:00",
          "2008-11-02T00:00:00",
          "2008-12-08T00:00:00",
          "2009-01-05T00:00:00",
          "2009-02-03T00:00:00",
          "2009-03-03T00:00:00",
          "2009-04-07T00:00:00",
          "2009-05-01T00:00:00",
          "2009-06-01T00:00:00",
          "2009-07-06T00:00:00",
          "2009-08-04T00:00:00",
          "2009-09-01T00:00:00",
          "2009-10-05T00:00:00",
          "2009-11-02T00:00:00",
          "2009-12-01T00:00:00",
          "2010-01-01T00:00:00",
          "2010-02-01T00:00:00",
          "2010-03-01T00:00:00",
          "2010-04-05T00:00:00",
          "2010-05-02T00:00:00",
          "2010-06-01T00:00:00",
          "2010-07-02T00:00:00",
          "2010-08-02T00:00:00",
          "2010-09-01T00:00:00",
          "2010-10-04T00:00:00",
          "2010-11-01T00:00:00",
          "2010-12-06T00:00:00",
          "2011-01-01T00:00:00",
          "2011-02-01T00:00:00",
          "2011-03-01T00:00:00",
          "2011-04-03T00:00:00",
          "2011-05-01T00:00:00",
          "2011-06-05T00:00:00",
          "2011-07-01T00:00:00",
          "2011-08-01T00:00:00",
          "2011-09-01T00:00:00",
          "2011-10-02T00:00:00",
          "2011-11-01T00:00:00",
          "2011-12-04T00:00:00",
          "2012-01-01T00:00:00",
          "2012-02-01T00:00:00",
          "2012-03-01T00:00:00",
          "2012-04-01T00:00:00",
          "2012-05-01T00:00:00",
          "2012-06-03T00:00:00",
          "2012-07-01T00:00:00",
          "2012-08-03T00:00:00",
          "2012-09-01T00:00:00",
          "2012-10-01T00:00:00",
          "2012-11-01T00:00:00",
          "2012-12-02T00:00:00",
          "2013-01-01T00:00:00",
          "2013-02-03T00:00:00",
          "2013-03-01T00:00:00",
          "2013-04-02T00:00:00",
          "2013-05-01T00:00:00",
          "2013-06-04T00:00:00",
          "2013-07-01T00:00:00",
          "2013-08-01T00:00:00",
          "2013-09-16T00:00:00",
          "2013-10-08T00:00:00",
          "2013-11-04T00:00:00",
          "2013-12-10T00:00:00",
          "2014-01-03T00:00:00",
          "2014-02-17T00:00:00",
          "2014-03-18T00:00:00",
          "2014-04-06T00:00:00",
          "2014-05-24T00:00:00",
          "2014-06-22T00:00:00",
          "2014-08-02T00:00:00",
          "2014-09-06T00:00:00",
          "2014-10-12T00:00:00",
          "2014-11-09T00:00:00",
          "2014-12-08T00:00:00",
          "2015-01-01T00:00:00",
          "2015-02-06T00:00:00",
          "2015-03-01T00:00:00",
          "2015-04-01T00:00:00",
          "2015-05-01T00:00:00",
          "2015-06-05T00:00:00",
          "2015-07-05T00:00:00",
          "2015-08-03T00:00:00",
          "2015-09-04T00:00:00",
          "2015-10-03T00:00:00",
          "2015-11-05T00:00:00",
          "2015-12-05T00:00:00",
          "2016-01-04T00:00:00",
          "2016-02-06T00:00:00",
          "2016-03-04T00:00:00",
          "2016-04-07T00:00:00",
          "2016-05-07T00:00:00",
          "2016-06-04T00:00:00",
          "2016-07-09T00:00:00",
          "2016-08-01T00:00:00",
          "2016-09-09T00:00:00",
          "2016-10-01T00:00:00",
          "2016-11-01T00:00:00",
          "2016-12-01T00:00:00",
          "2017-01-02T00:00:00",
          "2017-02-04T00:00:00",
          "2017-03-02T00:00:00",
          "2017-04-08T00:00:00",
          "2017-05-05T00:00:00",
          "2017-06-02T00:00:00",
          "2017-07-06T00:00:00",
          "2017-08-01T00:00:00",
          "2017-09-01T00:00:00",
          "2017-10-04T00:00:00",
          "2017-11-02T00:00:00",
          "2017-12-02T00:00:00",
          "2018-01-03T00:00:00",
          "2018-02-05T00:00:00",
          "2018-03-01T00:00:00",
          "2018-04-01T00:00:00",
          "2018-05-01T00:00:00",
          "2018-06-02T00:00:00",
          "2018-07-02T00:00:00",
          "2018-08-03T00:00:00",
          "2018-09-04T00:00:00",
          "2018-10-09T00:00:00",
          "2018-11-01T00:00:00",
          "2018-12-01T00:00:00",
          "2019-01-02T00:00:00",
          "2019-02-04T00:00:00",
          "2019-03-03T00:00:00",
          "2019-04-01T00:00:00",
          "2019-05-02T00:00:00",
          "2019-06-04T00:00:00",
          "2019-07-01T00:00:00",
          "2019-08-02T00:00:00",
          "2019-09-01T00:00:00",
          "2019-10-03T00:00:00",
          "2019-11-01T00:00:00",
          "2019-12-02T00:00:00",
          "2020-01-01T00:00:00",
          "2020-02-03T00:00:00",
          "2020-03-02T00:00:00",
          "2020-04-01T00:00:00",
          "2020-05-02T00:00:00",
          "2020-06-01T00:00:00",
          "2020-07-02T00:00:00",
          "2020-08-02T00:00:00",
          "2020-09-01T00:00:00",
          "2020-10-01T00:00:00",
          "2020-11-01T00:00:00",
          "2020-12-01T00:00:00",
          "2021-01-03T00:00:00",
          "2021-02-01T00:00:00",
          "2021-03-01T00:00:00",
          "2021-04-01T00:00:00",
          "2021-05-03T00:00:00",
          "2021-06-02T00:00:00",
          "2021-07-02T00:00:00",
          "2021-08-03T00:00:00",
          "2021-09-01T00:00:00",
          "2021-10-03T00:00:00",
          "2021-11-01T00:00:00",
          "2021-12-02T00:00:00"
         ],
         "xaxis": "x",
         "y": [
          19,
          67,
          130,
          55,
          26,
          92,
          93,
          112,
          21,
          45,
          32,
          48,
          18,
          36,
          31,
          45,
          30,
          30,
          50,
          28,
          50,
          34,
          39,
          46,
          39,
          35,
          41,
          51,
          30,
          48,
          38,
          43,
          30,
          50,
          28,
          42,
          36,
          44,
          37,
          43,
          30,
          48,
          32,
          45,
          39,
          48,
          33,
          44,
          28,
          43,
          41,
          34,
          37,
          49,
          33,
          44,
          31,
          44,
          29,
          55,
          28,
          43,
          37,
          42,
          25,
          35,
          52,
          47,
          47,
          45,
          34,
          572,
          91,
          68,
          64,
          34,
          66,
          35,
          55,
          34,
          58,
          55,
          33,
          28,
          60,
          26,
          56,
          33,
          65,
          28,
          62,
          25,
          55,
          27,
          58,
          26,
          60,
          25,
          59,
          26,
          52,
          3,
          1,
          49,
          1,
          1,
          1,
          3,
          7,
          2,
          1,
          4,
          2,
          2,
          71,
          6,
          5,
          2,
          5,
          13,
          7,
          18,
          9,
          5,
          4,
          4,
          9,
          4,
          5,
          3,
          2,
          5,
          6,
          4,
          5,
          4,
          6,
          3,
          11,
          3,
          4,
          3,
          7,
          7,
          4,
          6,
          4,
          4,
          4,
          5,
          10,
          7,
          15,
          11,
          14,
          21,
          11,
          14,
          13,
          11,
          12,
          14,
          9,
          17,
          14,
          14,
          15,
          15,
          14,
          18,
          14,
          15,
          9,
          13,
          10,
          13,
          15,
          19,
          47,
          25,
          23,
          29,
          33,
          16,
          24,
          24,
          54,
          48,
          42,
          48,
          41,
          35,
          30,
          40,
          35,
          36,
          32,
          32,
          46,
          34,
          30,
          35,
          7
         ],
         "yaxis": "y"
        }
       ],
       "layout": {
        "font": {
         "color": "black",
         "family": "Times New Roman"
        },
        "legend": {
         "itemsizing": "constant",
         "tracegroupgap": 0
        },
        "template": {
         "data": {
          "bar": [
           {
            "error_x": {
             "color": "#2a3f5f"
            },
            "error_y": {
             "color": "#2a3f5f"
            },
            "marker": {
             "line": {
              "color": "#E5ECF6",
              "width": 0.5
             },
             "pattern": {
              "fillmode": "overlay",
              "size": 10,
              "solidity": 0.2
             }
            },
            "type": "bar"
           }
          ],
          "barpolar": [
           {
            "marker": {
             "line": {
              "color": "#E5ECF6",
              "width": 0.5
             },
             "pattern": {
              "fillmode": "overlay",
              "size": 10,
              "solidity": 0.2
             }
            },
            "type": "barpolar"
           }
          ],
          "carpet": [
           {
            "aaxis": {
             "endlinecolor": "#2a3f5f",
             "gridcolor": "white",
             "linecolor": "white",
             "minorgridcolor": "white",
             "startlinecolor": "#2a3f5f"
            },
            "baxis": {
             "endlinecolor": "#2a3f5f",
             "gridcolor": "white",
             "linecolor": "white",
             "minorgridcolor": "white",
             "startlinecolor": "#2a3f5f"
            },
            "type": "carpet"
           }
          ],
          "choropleth": [
           {
            "colorbar": {
             "outlinewidth": 0,
             "ticks": ""
            },
            "type": "choropleth"
           }
          ],
          "contour": [
           {
            "colorbar": {
             "outlinewidth": 0,
             "ticks": ""
            },
            "colorscale": [
             [
              0,
              "#0d0887"
             ],
             [
              0.1111111111111111,
              "#46039f"
             ],
             [
              0.2222222222222222,
              "#7201a8"
             ],
             [
              0.3333333333333333,
              "#9c179e"
             ],
             [
              0.4444444444444444,
              "#bd3786"
             ],
             [
              0.5555555555555556,
              "#d8576b"
             ],
             [
              0.6666666666666666,
              "#ed7953"
             ],
             [
              0.7777777777777778,
              "#fb9f3a"
             ],
             [
              0.8888888888888888,
              "#fdca26"
             ],
             [
              1,
              "#f0f921"
             ]
            ],
            "type": "contour"
           }
          ],
          "contourcarpet": [
           {
            "colorbar": {
             "outlinewidth": 0,
             "ticks": ""
            },
            "type": "contourcarpet"
           }
          ],
          "heatmap": [
           {
            "colorbar": {
             "outlinewidth": 0,
             "ticks": ""
            },
            "colorscale": [
             [
              0,
              "#0d0887"
             ],
             [
              0.1111111111111111,
              "#46039f"
             ],
             [
              0.2222222222222222,
              "#7201a8"
             ],
             [
              0.3333333333333333,
              "#9c179e"
             ],
             [
              0.4444444444444444,
              "#bd3786"
             ],
             [
              0.5555555555555556,
              "#d8576b"
             ],
             [
              0.6666666666666666,
              "#ed7953"
             ],
             [
              0.7777777777777778,
              "#fb9f3a"
             ],
             [
              0.8888888888888888,
              "#fdca26"
             ],
             [
              1,
              "#f0f921"
             ]
            ],
            "type": "heatmap"
           }
          ],
          "heatmapgl": [
           {
            "colorbar": {
             "outlinewidth": 0,
             "ticks": ""
            },
            "colorscale": [
             [
              0,
              "#0d0887"
             ],
             [
              0.1111111111111111,
              "#46039f"
             ],
             [
              0.2222222222222222,
              "#7201a8"
             ],
             [
              0.3333333333333333,
              "#9c179e"
             ],
             [
              0.4444444444444444,
              "#bd3786"
             ],
             [
              0.5555555555555556,
              "#d8576b"
             ],
             [
              0.6666666666666666,
              "#ed7953"
             ],
             [
              0.7777777777777778,
              "#fb9f3a"
             ],
             [
              0.8888888888888888,
              "#fdca26"
             ],
             [
              1,
              "#f0f921"
             ]
            ],
            "type": "heatmapgl"
           }
          ],
          "histogram": [
           {
            "marker": {
             "pattern": {
              "fillmode": "overlay",
              "size": 10,
              "solidity": 0.2
             }
            },
            "type": "histogram"
           }
          ],
          "histogram2d": [
           {
            "colorbar": {
             "outlinewidth": 0,
             "ticks": ""
            },
            "colorscale": [
             [
              0,
              "#0d0887"
             ],
             [
              0.1111111111111111,
              "#46039f"
             ],
             [
              0.2222222222222222,
              "#7201a8"
             ],
             [
              0.3333333333333333,
              "#9c179e"
             ],
             [
              0.4444444444444444,
              "#bd3786"
             ],
             [
              0.5555555555555556,
              "#d8576b"
             ],
             [
              0.6666666666666666,
              "#ed7953"
             ],
             [
              0.7777777777777778,
              "#fb9f3a"
             ],
             [
              0.8888888888888888,
              "#fdca26"
             ],
             [
              1,
              "#f0f921"
             ]
            ],
            "type": "histogram2d"
           }
          ],
          "histogram2dcontour": [
           {
            "colorbar": {
             "outlinewidth": 0,
             "ticks": ""
            },
            "colorscale": [
             [
              0,
              "#0d0887"
             ],
             [
              0.1111111111111111,
              "#46039f"
             ],
             [
              0.2222222222222222,
              "#7201a8"
             ],
             [
              0.3333333333333333,
              "#9c179e"
             ],
             [
              0.4444444444444444,
              "#bd3786"
             ],
             [
              0.5555555555555556,
              "#d8576b"
             ],
             [
              0.6666666666666666,
              "#ed7953"
             ],
             [
              0.7777777777777778,
              "#fb9f3a"
             ],
             [
              0.8888888888888888,
              "#fdca26"
             ],
             [
              1,
              "#f0f921"
             ]
            ],
            "type": "histogram2dcontour"
           }
          ],
          "mesh3d": [
           {
            "colorbar": {
             "outlinewidth": 0,
             "ticks": ""
            },
            "type": "mesh3d"
           }
          ],
          "parcoords": [
           {
            "line": {
             "colorbar": {
              "outlinewidth": 0,
              "ticks": ""
             }
            },
            "type": "parcoords"
           }
          ],
          "pie": [
           {
            "automargin": true,
            "type": "pie"
           }
          ],
          "scatter": [
           {
            "marker": {
             "colorbar": {
              "outlinewidth": 0,
              "ticks": ""
             }
            },
            "type": "scatter"
           }
          ],
          "scatter3d": [
           {
            "line": {
             "colorbar": {
              "outlinewidth": 0,
              "ticks": ""
             }
            },
            "marker": {
             "colorbar": {
              "outlinewidth": 0,
              "ticks": ""
             }
            },
            "type": "scatter3d"
           }
          ],
          "scattercarpet": [
           {
            "marker": {
             "colorbar": {
              "outlinewidth": 0,
              "ticks": ""
             }
            },
            "type": "scattercarpet"
           }
          ],
          "scattergeo": [
           {
            "marker": {
             "colorbar": {
              "outlinewidth": 0,
              "ticks": ""
             }
            },
            "type": "scattergeo"
           }
          ],
          "scattergl": [
           {
            "marker": {
             "colorbar": {
              "outlinewidth": 0,
              "ticks": ""
             }
            },
            "type": "scattergl"
           }
          ],
          "scattermapbox": [
           {
            "marker": {
             "colorbar": {
              "outlinewidth": 0,
              "ticks": ""
             }
            },
            "type": "scattermapbox"
           }
          ],
          "scatterpolar": [
           {
            "marker": {
             "colorbar": {
              "outlinewidth": 0,
              "ticks": ""
             }
            },
            "type": "scatterpolar"
           }
          ],
          "scatterpolargl": [
           {
            "marker": {
             "colorbar": {
              "outlinewidth": 0,
              "ticks": ""
             }
            },
            "type": "scatterpolargl"
           }
          ],
          "scatterternary": [
           {
            "marker": {
             "colorbar": {
              "outlinewidth": 0,
              "ticks": ""
             }
            },
            "type": "scatterternary"
           }
          ],
          "surface": [
           {
            "colorbar": {
             "outlinewidth": 0,
             "ticks": ""
            },
            "colorscale": [
             [
              0,
              "#0d0887"
             ],
             [
              0.1111111111111111,
              "#46039f"
             ],
             [
              0.2222222222222222,
              "#7201a8"
             ],
             [
              0.3333333333333333,
              "#9c179e"
             ],
             [
              0.4444444444444444,
              "#bd3786"
             ],
             [
              0.5555555555555556,
              "#d8576b"
             ],
             [
              0.6666666666666666,
              "#ed7953"
             ],
             [
              0.7777777777777778,
              "#fb9f3a"
             ],
             [
              0.8888888888888888,
              "#fdca26"
             ],
             [
              1,
              "#f0f921"
             ]
            ],
            "type": "surface"
           }
          ],
          "table": [
           {
            "cells": {
             "fill": {
              "color": "#EBF0F8"
             },
             "line": {
              "color": "white"
             }
            },
            "header": {
             "fill": {
              "color": "#C8D4E3"
             },
             "line": {
              "color": "white"
             }
            },
            "type": "table"
           }
          ]
         },
         "layout": {
          "annotationdefaults": {
           "arrowcolor": "#2a3f5f",
           "arrowhead": 0,
           "arrowwidth": 1
          },
          "autotypenumbers": "strict",
          "coloraxis": {
           "colorbar": {
            "outlinewidth": 0,
            "ticks": ""
           }
          },
          "colorscale": {
           "diverging": [
            [
             0,
             "#8e0152"
            ],
            [
             0.1,
             "#c51b7d"
            ],
            [
             0.2,
             "#de77ae"
            ],
            [
             0.3,
             "#f1b6da"
            ],
            [
             0.4,
             "#fde0ef"
            ],
            [
             0.5,
             "#f7f7f7"
            ],
            [
             0.6,
             "#e6f5d0"
            ],
            [
             0.7,
             "#b8e186"
            ],
            [
             0.8,
             "#7fbc41"
            ],
            [
             0.9,
             "#4d9221"
            ],
            [
             1,
             "#276419"
            ]
           ],
           "sequential": [
            [
             0,
             "#0d0887"
            ],
            [
             0.1111111111111111,
             "#46039f"
            ],
            [
             0.2222222222222222,
             "#7201a8"
            ],
            [
             0.3333333333333333,
             "#9c179e"
            ],
            [
             0.4444444444444444,
             "#bd3786"
            ],
            [
             0.5555555555555556,
             "#d8576b"
            ],
            [
             0.6666666666666666,
             "#ed7953"
            ],
            [
             0.7777777777777778,
             "#fb9f3a"
            ],
            [
             0.8888888888888888,
             "#fdca26"
            ],
            [
             1,
             "#f0f921"
            ]
           ],
           "sequentialminus": [
            [
             0,
             "#0d0887"
            ],
            [
             0.1111111111111111,
             "#46039f"
            ],
            [
             0.2222222222222222,
             "#7201a8"
            ],
            [
             0.3333333333333333,
             "#9c179e"
            ],
            [
             0.4444444444444444,
             "#bd3786"
            ],
            [
             0.5555555555555556,
             "#d8576b"
            ],
            [
             0.6666666666666666,
             "#ed7953"
            ],
            [
             0.7777777777777778,
             "#fb9f3a"
            ],
            [
             0.8888888888888888,
             "#fdca26"
            ],
            [
             1,
             "#f0f921"
            ]
           ]
          },
          "colorway": [
           "#636efa",
           "#EF553B",
           "#00cc96",
           "#ab63fa",
           "#FFA15A",
           "#19d3f3",
           "#FF6692",
           "#B6E880",
           "#FF97FF",
           "#FECB52"
          ],
          "font": {
           "color": "#2a3f5f"
          },
          "geo": {
           "bgcolor": "white",
           "lakecolor": "white",
           "landcolor": "#E5ECF6",
           "showlakes": true,
           "showland": true,
           "subunitcolor": "white"
          },
          "hoverlabel": {
           "align": "left"
          },
          "hovermode": "closest",
          "mapbox": {
           "style": "light"
          },
          "paper_bgcolor": "white",
          "plot_bgcolor": "#E5ECF6",
          "polar": {
           "angularaxis": {
            "gridcolor": "white",
            "linecolor": "white",
            "ticks": ""
           },
           "bgcolor": "#E5ECF6",
           "radialaxis": {
            "gridcolor": "white",
            "linecolor": "white",
            "ticks": ""
           }
          },
          "scene": {
           "xaxis": {
            "backgroundcolor": "#E5ECF6",
            "gridcolor": "white",
            "gridwidth": 2,
            "linecolor": "white",
            "showbackground": true,
            "ticks": "",
            "zerolinecolor": "white"
           },
           "yaxis": {
            "backgroundcolor": "#E5ECF6",
            "gridcolor": "white",
            "gridwidth": 2,
            "linecolor": "white",
            "showbackground": true,
            "ticks": "",
            "zerolinecolor": "white"
           },
           "zaxis": {
            "backgroundcolor": "#E5ECF6",
            "gridcolor": "white",
            "gridwidth": 2,
            "linecolor": "white",
            "showbackground": true,
            "ticks": "",
            "zerolinecolor": "white"
           }
          },
          "shapedefaults": {
           "line": {
            "color": "#2a3f5f"
           }
          },
          "ternary": {
           "aaxis": {
            "gridcolor": "white",
            "linecolor": "white",
            "ticks": ""
           },
           "baxis": {
            "gridcolor": "white",
            "linecolor": "white",
            "ticks": ""
           },
           "bgcolor": "#E5ECF6",
           "caxis": {
            "gridcolor": "white",
            "linecolor": "white",
            "ticks": ""
           }
          },
          "title": {
           "x": 0.05
          },
          "xaxis": {
           "automargin": true,
           "gridcolor": "white",
           "linecolor": "white",
           "ticks": "",
           "title": {
            "standoff": 15
           },
           "zerolinecolor": "white",
           "zerolinewidth": 2
          },
          "yaxis": {
           "automargin": true,
           "gridcolor": "white",
           "linecolor": "white",
           "ticks": "",
           "title": {
            "standoff": 15
           },
           "zerolinecolor": "white",
           "zerolinewidth": 2
          }
         }
        },
        "title": {
         "text": "Figure 4"
        },
        "xaxis": {
         "anchor": "y",
         "domain": [
          0,
          1
         ],
         "title": {
          "text": "Date"
         }
        },
        "yaxis": {
         "anchor": "x",
         "domain": [
          0,
          1
         ],
         "range": [
          0,
          200
         ],
         "title": {
          "text": "Number of Articles"
         }
        }
       }
      },
      "text/html": [
       "<div>                            <div id=\"4e5a2ccf-a7d0-417a-a06a-5fc224545d3f\" class=\"plotly-graph-div\" style=\"height:525px; width:100%;\"></div>            <script type=\"text/javascript\">                require([\"plotly\"], function(Plotly) {                    window.PLOTLYENV=window.PLOTLYENV || {};                                    if (document.getElementById(\"4e5a2ccf-a7d0-417a-a06a-5fc224545d3f\")) {                    Plotly.newPlot(                        \"4e5a2ccf-a7d0-417a-a06a-5fc224545d3f\",                        [{\"hovertemplate\":\"Date=%{x}<br>Number of Articles=%{y}<br>wordcount=%{marker.size}<extra></extra>\",\"legendgroup\":\"\",\"marker\":{\"color\":\"#636efa\",\"size\":[825.9473684210526,304.44776119402985,353.4769230769231,735.0,745.6153846153846,452.92391304347825,308.741935483871,565.25,1033.3333333333333,852.5777777777778,939.6875,980.125,735.0555555555555,762.2222222222222,1210.5483870967741,880.6222222222223,1282.6666666666667,875.1666666666666,1037.68,881.1785714285714,925.98,754.0588235294117,1075.2051282051282,1014.195652173913,998.3589743589744,756.6857142857143,1207.4146341463415,939.6862745098039,996.0,702.4166666666666,1014.4736842105264,807.6046511627907,1100.6333333333334,905.48,864.6428571428571,1075.095238095238,906.3888888888889,704.8409090909091,991.1621621621622,763.5116279069767,916.1333333333333,701.1041666666666,756.15625,688.2444444444444,920.5384615384615,595.9375,699.030303030303,929.0,641.3928571428571,747.2093023255813,691.1951219512196,712.9705882352941,816.1621621621622,714.6938775510204,712.4848484848485,676.6136363636364,677.7096774193549,655.0681818181819,731.7931034482758,1015.709090909091,1171.2142857142858,564.5116279069767,713.3783783783783,769.047619047619,618.24,938.2857142857143,557.0192307692307,664.6170212765958,778.3404255319149,717.8,648.2647058823529,33.83216783216783,471.9120879120879,248.7058823529412,503.703125,513.0,566.8181818181819,486.48571428571427,634.4909090909091,571.5882352941177,586.4137931034483,560.3090909090909,696.6969696969697,586.0357142857143,546.5333333333333,585.3461538461538,659.4464285714286,680.060606060606,534.2153846153847,611.8571428571429,654.4677419354839,675.6,668.0181818181818,617.4444444444445,545.9827586206897,617.8846153846154,577.0166666666667,587.84,621.1016949152543,631.9230769230769,612.0384615384615,546.6666666666666,538.0,549.7755102040817,543.0,801.0,516.0,422.6666666666667,715.7142857142857,369.5,585.0,743.5,809.0,465.0,610.4225352112676,631.6666666666666,500.6,561.5,526.0,513.6153846153846,524.1428571428571,508.0,533.6666666666666,525.6,513.0,528.75,370.0,508.75,710.2,534.6666666666666,549.0,553.8,521.0,546.5,534.6,526.5,517.5,501.0,708.5454545454545,517.0,529.25,562.6666666666666,626.5714285714286,541.5714285714286,542.0,588.0,555.25,523.5,508.25,508.6,621.5,725.8571428571429,989.5333333333333,689.2727272727273,675.9285714285714,669.047619047619,728.9090909090909,672.4285714285714,561.4615384615385,666.8181818181819,654.8333333333334,876.1428571428571,645.4444444444445,671.2352941176471,604.7142857142857,658.4285714285714,504.8666666666667,672.2666666666667,650.3571428571429,578.5555555555555,608.0,616.1333333333333,679.2222222222222,722.1538461538462,531.0,631.9230769230769,675.0666666666667,604.2105263157895,715.1702127659574,823.24,820.2608695652174,667.1379310344828,696.2424242424242,793.0,683.25,671.7916666666666,838.2222222222222,741.7916666666666,704.8809523809524,838.0208333333334,703.7317073170732,766.6,698.5,744.65,836.6571428571428,685.5277777777778,880.90625,650.375,871.8478260869565,735.2941176470588,779.4333333333333,713.0857142857143,1263.5714285714287],\"sizemode\":\"area\",\"sizeref\":3.206666666666667,\"symbol\":\"circle\"},\"mode\":\"markers\",\"name\":\"\",\"orientation\":\"v\",\"showlegend\":false,\"type\":\"scatter\",\"x\":[\"2005-01-04T00:00:00\",\"2005-02-01T00:00:00\",\"2005-03-01T00:00:00\",\"2005-04-05T00:00:00\",\"2005-05-02T00:00:00\",\"2005-06-01T00:00:00\",\"2005-07-05T00:00:00\",\"2005-08-01T00:00:00\",\"2005-09-06T00:00:00\",\"2005-10-06T00:00:00\",\"2005-11-01T00:00:00\",\"2005-12-05T00:00:00\",\"2006-01-03T00:00:00\",\"2006-02-01T00:00:00\",\"2006-03-01T00:00:00\",\"2006-04-04T00:00:00\",\"2006-05-02T00:00:00\",\"2006-06-01T00:00:00\",\"2006-07-02T00:00:00\",\"2006-08-03T00:00:00\",\"2006-09-01T00:00:00\",\"2006-10-01T00:00:00\",\"2006-11-01T00:00:00\",\"2006-12-03T00:00:00\",\"2007-01-02T00:00:00\",\"2007-02-05T00:00:00\",\"2007-03-03T00:00:00\",\"2007-04-02T00:00:00\",\"2007-05-07T00:00:00\",\"2007-06-04T00:00:00\",\"2007-07-01T00:00:00\",\"2007-08-06T00:00:00\",\"2007-09-04T00:00:00\",\"2007-10-01T00:00:00\",\"2007-11-02T00:00:00\",\"2007-12-03T00:00:00\",\"2008-01-02T00:00:00\",\"2008-02-01T00:00:00\",\"2008-03-03T00:00:00\",\"2008-04-08T00:00:00\",\"2008-05-05T00:00:00\",\"2008-06-01T00:00:00\",\"2008-07-07T00:00:00\",\"2008-08-04T00:00:00\",\"2008-09-01T00:00:00\",\"2008-10-06T00:00:00\",\"2008-11-02T00:00:00\",\"2008-12-08T00:00:00\",\"2009-01-05T00:00:00\",\"2009-02-03T00:00:00\",\"2009-03-03T00:00:00\",\"2009-04-07T00:00:00\",\"2009-05-01T00:00:00\",\"2009-06-01T00:00:00\",\"2009-07-06T00:00:00\",\"2009-08-04T00:00:00\",\"2009-09-01T00:00:00\",\"2009-10-05T00:00:00\",\"2009-11-02T00:00:00\",\"2009-12-01T00:00:00\",\"2010-01-01T00:00:00\",\"2010-02-01T00:00:00\",\"2010-03-01T00:00:00\",\"2010-04-05T00:00:00\",\"2010-05-02T00:00:00\",\"2010-06-01T00:00:00\",\"2010-07-02T00:00:00\",\"2010-08-02T00:00:00\",\"2010-09-01T00:00:00\",\"2010-10-04T00:00:00\",\"2010-11-01T00:00:00\",\"2010-12-06T00:00:00\",\"2011-01-01T00:00:00\",\"2011-02-01T00:00:00\",\"2011-03-01T00:00:00\",\"2011-04-03T00:00:00\",\"2011-05-01T00:00:00\",\"2011-06-05T00:00:00\",\"2011-07-01T00:00:00\",\"2011-08-01T00:00:00\",\"2011-09-01T00:00:00\",\"2011-10-02T00:00:00\",\"2011-11-01T00:00:00\",\"2011-12-04T00:00:00\",\"2012-01-01T00:00:00\",\"2012-02-01T00:00:00\",\"2012-03-01T00:00:00\",\"2012-04-01T00:00:00\",\"2012-05-01T00:00:00\",\"2012-06-03T00:00:00\",\"2012-07-01T00:00:00\",\"2012-08-03T00:00:00\",\"2012-09-01T00:00:00\",\"2012-10-01T00:00:00\",\"2012-11-01T00:00:00\",\"2012-12-02T00:00:00\",\"2013-01-01T00:00:00\",\"2013-02-03T00:00:00\",\"2013-03-01T00:00:00\",\"2013-04-02T00:00:00\",\"2013-05-01T00:00:00\",\"2013-06-04T00:00:00\",\"2013-07-01T00:00:00\",\"2013-08-01T00:00:00\",\"2013-09-16T00:00:00\",\"2013-10-08T00:00:00\",\"2013-11-04T00:00:00\",\"2013-12-10T00:00:00\",\"2014-01-03T00:00:00\",\"2014-02-17T00:00:00\",\"2014-03-18T00:00:00\",\"2014-04-06T00:00:00\",\"2014-05-24T00:00:00\",\"2014-06-22T00:00:00\",\"2014-08-02T00:00:00\",\"2014-09-06T00:00:00\",\"2014-10-12T00:00:00\",\"2014-11-09T00:00:00\",\"2014-12-08T00:00:00\",\"2015-01-01T00:00:00\",\"2015-02-06T00:00:00\",\"2015-03-01T00:00:00\",\"2015-04-01T00:00:00\",\"2015-05-01T00:00:00\",\"2015-06-05T00:00:00\",\"2015-07-05T00:00:00\",\"2015-08-03T00:00:00\",\"2015-09-04T00:00:00\",\"2015-10-03T00:00:00\",\"2015-11-05T00:00:00\",\"2015-12-05T00:00:00\",\"2016-01-04T00:00:00\",\"2016-02-06T00:00:00\",\"2016-03-04T00:00:00\",\"2016-04-07T00:00:00\",\"2016-05-07T00:00:00\",\"2016-06-04T00:00:00\",\"2016-07-09T00:00:00\",\"2016-08-01T00:00:00\",\"2016-09-09T00:00:00\",\"2016-10-01T00:00:00\",\"2016-11-01T00:00:00\",\"2016-12-01T00:00:00\",\"2017-01-02T00:00:00\",\"2017-02-04T00:00:00\",\"2017-03-02T00:00:00\",\"2017-04-08T00:00:00\",\"2017-05-05T00:00:00\",\"2017-06-02T00:00:00\",\"2017-07-06T00:00:00\",\"2017-08-01T00:00:00\",\"2017-09-01T00:00:00\",\"2017-10-04T00:00:00\",\"2017-11-02T00:00:00\",\"2017-12-02T00:00:00\",\"2018-01-03T00:00:00\",\"2018-02-05T00:00:00\",\"2018-03-01T00:00:00\",\"2018-04-01T00:00:00\",\"2018-05-01T00:00:00\",\"2018-06-02T00:00:00\",\"2018-07-02T00:00:00\",\"2018-08-03T00:00:00\",\"2018-09-04T00:00:00\",\"2018-10-09T00:00:00\",\"2018-11-01T00:00:00\",\"2018-12-01T00:00:00\",\"2019-01-02T00:00:00\",\"2019-02-04T00:00:00\",\"2019-03-03T00:00:00\",\"2019-04-01T00:00:00\",\"2019-05-02T00:00:00\",\"2019-06-04T00:00:00\",\"2019-07-01T00:00:00\",\"2019-08-02T00:00:00\",\"2019-09-01T00:00:00\",\"2019-10-03T00:00:00\",\"2019-11-01T00:00:00\",\"2019-12-02T00:00:00\",\"2020-01-01T00:00:00\",\"2020-02-03T00:00:00\",\"2020-03-02T00:00:00\",\"2020-04-01T00:00:00\",\"2020-05-02T00:00:00\",\"2020-06-01T00:00:00\",\"2020-07-02T00:00:00\",\"2020-08-02T00:00:00\",\"2020-09-01T00:00:00\",\"2020-10-01T00:00:00\",\"2020-11-01T00:00:00\",\"2020-12-01T00:00:00\",\"2021-01-03T00:00:00\",\"2021-02-01T00:00:00\",\"2021-03-01T00:00:00\",\"2021-04-01T00:00:00\",\"2021-05-03T00:00:00\",\"2021-06-02T00:00:00\",\"2021-07-02T00:00:00\",\"2021-08-03T00:00:00\",\"2021-09-01T00:00:00\",\"2021-10-03T00:00:00\",\"2021-11-01T00:00:00\",\"2021-12-02T00:00:00\"],\"xaxis\":\"x\",\"y\":[19,67,130,55,26,92,93,112,21,45,32,48,18,36,31,45,30,30,50,28,50,34,39,46,39,35,41,51,30,48,38,43,30,50,28,42,36,44,37,43,30,48,32,45,39,48,33,44,28,43,41,34,37,49,33,44,31,44,29,55,28,43,37,42,25,35,52,47,47,45,34,572,91,68,64,34,66,35,55,34,58,55,33,28,60,26,56,33,65,28,62,25,55,27,58,26,60,25,59,26,52,3,1,49,1,1,1,3,7,2,1,4,2,2,71,6,5,2,5,13,7,18,9,5,4,4,9,4,5,3,2,5,6,4,5,4,6,3,11,3,4,3,7,7,4,6,4,4,4,5,10,7,15,11,14,21,11,14,13,11,12,14,9,17,14,14,15,15,14,18,14,15,9,13,10,13,15,19,47,25,23,29,33,16,24,24,54,48,42,48,41,35,30,40,35,36,32,32,46,34,30,35,7],\"yaxis\":\"y\"}],                        {\"font\":{\"color\":\"black\",\"family\":\"Times New Roman\"},\"legend\":{\"itemsizing\":\"constant\",\"tracegroupgap\":0},\"template\":{\"data\":{\"bar\":[{\"error_x\":{\"color\":\"#2a3f5f\"},\"error_y\":{\"color\":\"#2a3f5f\"},\"marker\":{\"line\":{\"color\":\"#E5ECF6\",\"width\":0.5},\"pattern\":{\"fillmode\":\"overlay\",\"size\":10,\"solidity\":0.2}},\"type\":\"bar\"}],\"barpolar\":[{\"marker\":{\"line\":{\"color\":\"#E5ECF6\",\"width\":0.5},\"pattern\":{\"fillmode\":\"overlay\",\"size\":10,\"solidity\":0.2}},\"type\":\"barpolar\"}],\"carpet\":[{\"aaxis\":{\"endlinecolor\":\"#2a3f5f\",\"gridcolor\":\"white\",\"linecolor\":\"white\",\"minorgridcolor\":\"white\",\"startlinecolor\":\"#2a3f5f\"},\"baxis\":{\"endlinecolor\":\"#2a3f5f\",\"gridcolor\":\"white\",\"linecolor\":\"white\",\"minorgridcolor\":\"white\",\"startlinecolor\":\"#2a3f5f\"},\"type\":\"carpet\"}],\"choropleth\":[{\"colorbar\":{\"outlinewidth\":0,\"ticks\":\"\"},\"type\":\"choropleth\"}],\"contour\":[{\"colorbar\":{\"outlinewidth\":0,\"ticks\":\"\"},\"colorscale\":[[0.0,\"#0d0887\"],[0.1111111111111111,\"#46039f\"],[0.2222222222222222,\"#7201a8\"],[0.3333333333333333,\"#9c179e\"],[0.4444444444444444,\"#bd3786\"],[0.5555555555555556,\"#d8576b\"],[0.6666666666666666,\"#ed7953\"],[0.7777777777777778,\"#fb9f3a\"],[0.8888888888888888,\"#fdca26\"],[1.0,\"#f0f921\"]],\"type\":\"contour\"}],\"contourcarpet\":[{\"colorbar\":{\"outlinewidth\":0,\"ticks\":\"\"},\"type\":\"contourcarpet\"}],\"heatmap\":[{\"colorbar\":{\"outlinewidth\":0,\"ticks\":\"\"},\"colorscale\":[[0.0,\"#0d0887\"],[0.1111111111111111,\"#46039f\"],[0.2222222222222222,\"#7201a8\"],[0.3333333333333333,\"#9c179e\"],[0.4444444444444444,\"#bd3786\"],[0.5555555555555556,\"#d8576b\"],[0.6666666666666666,\"#ed7953\"],[0.7777777777777778,\"#fb9f3a\"],[0.8888888888888888,\"#fdca26\"],[1.0,\"#f0f921\"]],\"type\":\"heatmap\"}],\"heatmapgl\":[{\"colorbar\":{\"outlinewidth\":0,\"ticks\":\"\"},\"colorscale\":[[0.0,\"#0d0887\"],[0.1111111111111111,\"#46039f\"],[0.2222222222222222,\"#7201a8\"],[0.3333333333333333,\"#9c179e\"],[0.4444444444444444,\"#bd3786\"],[0.5555555555555556,\"#d8576b\"],[0.6666666666666666,\"#ed7953\"],[0.7777777777777778,\"#fb9f3a\"],[0.8888888888888888,\"#fdca26\"],[1.0,\"#f0f921\"]],\"type\":\"heatmapgl\"}],\"histogram\":[{\"marker\":{\"pattern\":{\"fillmode\":\"overlay\",\"size\":10,\"solidity\":0.2}},\"type\":\"histogram\"}],\"histogram2d\":[{\"colorbar\":{\"outlinewidth\":0,\"ticks\":\"\"},\"colorscale\":[[0.0,\"#0d0887\"],[0.1111111111111111,\"#46039f\"],[0.2222222222222222,\"#7201a8\"],[0.3333333333333333,\"#9c179e\"],[0.4444444444444444,\"#bd3786\"],[0.5555555555555556,\"#d8576b\"],[0.6666666666666666,\"#ed7953\"],[0.7777777777777778,\"#fb9f3a\"],[0.8888888888888888,\"#fdca26\"],[1.0,\"#f0f921\"]],\"type\":\"histogram2d\"}],\"histogram2dcontour\":[{\"colorbar\":{\"outlinewidth\":0,\"ticks\":\"\"},\"colorscale\":[[0.0,\"#0d0887\"],[0.1111111111111111,\"#46039f\"],[0.2222222222222222,\"#7201a8\"],[0.3333333333333333,\"#9c179e\"],[0.4444444444444444,\"#bd3786\"],[0.5555555555555556,\"#d8576b\"],[0.6666666666666666,\"#ed7953\"],[0.7777777777777778,\"#fb9f3a\"],[0.8888888888888888,\"#fdca26\"],[1.0,\"#f0f921\"]],\"type\":\"histogram2dcontour\"}],\"mesh3d\":[{\"colorbar\":{\"outlinewidth\":0,\"ticks\":\"\"},\"type\":\"mesh3d\"}],\"parcoords\":[{\"line\":{\"colorbar\":{\"outlinewidth\":0,\"ticks\":\"\"}},\"type\":\"parcoords\"}],\"pie\":[{\"automargin\":true,\"type\":\"pie\"}],\"scatter\":[{\"marker\":{\"colorbar\":{\"outlinewidth\":0,\"ticks\":\"\"}},\"type\":\"scatter\"}],\"scatter3d\":[{\"line\":{\"colorbar\":{\"outlinewidth\":0,\"ticks\":\"\"}},\"marker\":{\"colorbar\":{\"outlinewidth\":0,\"ticks\":\"\"}},\"type\":\"scatter3d\"}],\"scattercarpet\":[{\"marker\":{\"colorbar\":{\"outlinewidth\":0,\"ticks\":\"\"}},\"type\":\"scattercarpet\"}],\"scattergeo\":[{\"marker\":{\"colorbar\":{\"outlinewidth\":0,\"ticks\":\"\"}},\"type\":\"scattergeo\"}],\"scattergl\":[{\"marker\":{\"colorbar\":{\"outlinewidth\":0,\"ticks\":\"\"}},\"type\":\"scattergl\"}],\"scattermapbox\":[{\"marker\":{\"colorbar\":{\"outlinewidth\":0,\"ticks\":\"\"}},\"type\":\"scattermapbox\"}],\"scatterpolar\":[{\"marker\":{\"colorbar\":{\"outlinewidth\":0,\"ticks\":\"\"}},\"type\":\"scatterpolar\"}],\"scatterpolargl\":[{\"marker\":{\"colorbar\":{\"outlinewidth\":0,\"ticks\":\"\"}},\"type\":\"scatterpolargl\"}],\"scatterternary\":[{\"marker\":{\"colorbar\":{\"outlinewidth\":0,\"ticks\":\"\"}},\"type\":\"scatterternary\"}],\"surface\":[{\"colorbar\":{\"outlinewidth\":0,\"ticks\":\"\"},\"colorscale\":[[0.0,\"#0d0887\"],[0.1111111111111111,\"#46039f\"],[0.2222222222222222,\"#7201a8\"],[0.3333333333333333,\"#9c179e\"],[0.4444444444444444,\"#bd3786\"],[0.5555555555555556,\"#d8576b\"],[0.6666666666666666,\"#ed7953\"],[0.7777777777777778,\"#fb9f3a\"],[0.8888888888888888,\"#fdca26\"],[1.0,\"#f0f921\"]],\"type\":\"surface\"}],\"table\":[{\"cells\":{\"fill\":{\"color\":\"#EBF0F8\"},\"line\":{\"color\":\"white\"}},\"header\":{\"fill\":{\"color\":\"#C8D4E3\"},\"line\":{\"color\":\"white\"}},\"type\":\"table\"}]},\"layout\":{\"annotationdefaults\":{\"arrowcolor\":\"#2a3f5f\",\"arrowhead\":0,\"arrowwidth\":1},\"autotypenumbers\":\"strict\",\"coloraxis\":{\"colorbar\":{\"outlinewidth\":0,\"ticks\":\"\"}},\"colorscale\":{\"diverging\":[[0,\"#8e0152\"],[0.1,\"#c51b7d\"],[0.2,\"#de77ae\"],[0.3,\"#f1b6da\"],[0.4,\"#fde0ef\"],[0.5,\"#f7f7f7\"],[0.6,\"#e6f5d0\"],[0.7,\"#b8e186\"],[0.8,\"#7fbc41\"],[0.9,\"#4d9221\"],[1,\"#276419\"]],\"sequential\":[[0.0,\"#0d0887\"],[0.1111111111111111,\"#46039f\"],[0.2222222222222222,\"#7201a8\"],[0.3333333333333333,\"#9c179e\"],[0.4444444444444444,\"#bd3786\"],[0.5555555555555556,\"#d8576b\"],[0.6666666666666666,\"#ed7953\"],[0.7777777777777778,\"#fb9f3a\"],[0.8888888888888888,\"#fdca26\"],[1.0,\"#f0f921\"]],\"sequentialminus\":[[0.0,\"#0d0887\"],[0.1111111111111111,\"#46039f\"],[0.2222222222222222,\"#7201a8\"],[0.3333333333333333,\"#9c179e\"],[0.4444444444444444,\"#bd3786\"],[0.5555555555555556,\"#d8576b\"],[0.6666666666666666,\"#ed7953\"],[0.7777777777777778,\"#fb9f3a\"],[0.8888888888888888,\"#fdca26\"],[1.0,\"#f0f921\"]]},\"colorway\":[\"#636efa\",\"#EF553B\",\"#00cc96\",\"#ab63fa\",\"#FFA15A\",\"#19d3f3\",\"#FF6692\",\"#B6E880\",\"#FF97FF\",\"#FECB52\"],\"font\":{\"color\":\"#2a3f5f\"},\"geo\":{\"bgcolor\":\"white\",\"lakecolor\":\"white\",\"landcolor\":\"#E5ECF6\",\"showlakes\":true,\"showland\":true,\"subunitcolor\":\"white\"},\"hoverlabel\":{\"align\":\"left\"},\"hovermode\":\"closest\",\"mapbox\":{\"style\":\"light\"},\"paper_bgcolor\":\"white\",\"plot_bgcolor\":\"#E5ECF6\",\"polar\":{\"angularaxis\":{\"gridcolor\":\"white\",\"linecolor\":\"white\",\"ticks\":\"\"},\"bgcolor\":\"#E5ECF6\",\"radialaxis\":{\"gridcolor\":\"white\",\"linecolor\":\"white\",\"ticks\":\"\"}},\"scene\":{\"xaxis\":{\"backgroundcolor\":\"#E5ECF6\",\"gridcolor\":\"white\",\"gridwidth\":2,\"linecolor\":\"white\",\"showbackground\":true,\"ticks\":\"\",\"zerolinecolor\":\"white\"},\"yaxis\":{\"backgroundcolor\":\"#E5ECF6\",\"gridcolor\":\"white\",\"gridwidth\":2,\"linecolor\":\"white\",\"showbackground\":true,\"ticks\":\"\",\"zerolinecolor\":\"white\"},\"zaxis\":{\"backgroundcolor\":\"#E5ECF6\",\"gridcolor\":\"white\",\"gridwidth\":2,\"linecolor\":\"white\",\"showbackground\":true,\"ticks\":\"\",\"zerolinecolor\":\"white\"}},\"shapedefaults\":{\"line\":{\"color\":\"#2a3f5f\"}},\"ternary\":{\"aaxis\":{\"gridcolor\":\"white\",\"linecolor\":\"white\",\"ticks\":\"\"},\"baxis\":{\"gridcolor\":\"white\",\"linecolor\":\"white\",\"ticks\":\"\"},\"bgcolor\":\"#E5ECF6\",\"caxis\":{\"gridcolor\":\"white\",\"linecolor\":\"white\",\"ticks\":\"\"}},\"title\":{\"x\":0.05},\"xaxis\":{\"automargin\":true,\"gridcolor\":\"white\",\"linecolor\":\"white\",\"ticks\":\"\",\"title\":{\"standoff\":15},\"zerolinecolor\":\"white\",\"zerolinewidth\":2},\"yaxis\":{\"automargin\":true,\"gridcolor\":\"white\",\"linecolor\":\"white\",\"ticks\":\"\",\"title\":{\"standoff\":15},\"zerolinecolor\":\"white\",\"zerolinewidth\":2}}},\"title\":{\"text\":\"Figure 4\"},\"xaxis\":{\"anchor\":\"y\",\"domain\":[0.0,1.0],\"title\":{\"text\":\"Date\"}},\"yaxis\":{\"anchor\":\"x\",\"domain\":[0.0,1.0],\"range\":[0,200],\"title\":{\"text\":\"Number of Articles\"}}},                        {\"responsive\": true}                    ).then(function(){\n",
       "                            \n",
       "var gd = document.getElementById('4e5a2ccf-a7d0-417a-a06a-5fc224545d3f');\n",
       "var x = new MutationObserver(function (mutations, observer) {{\n",
       "        var display = window.getComputedStyle(gd).display;\n",
       "        if (!display || display === 'none') {{\n",
       "            console.log([gd, 'removed!']);\n",
       "            Plotly.purge(gd);\n",
       "            observer.disconnect();\n",
       "        }}\n",
       "}});\n",
       "\n",
       "// Listen for the removal of the full notebook cells\n",
       "var notebookContainer = gd.closest('#notebook-container');\n",
       "if (notebookContainer) {{\n",
       "    x.observe(notebookContainer, {childList: true});\n",
       "}}\n",
       "\n",
       "// Listen for the clearing of the current output cell\n",
       "var outputEl = gd.closest('.output');\n",
       "if (outputEl) {{\n",
       "    x.observe(outputEl, {childList: true});\n",
       "}}\n",
       "\n",
       "                        })                };                });            </script>        </div>"
      ]
     },
     "metadata": {},
     "output_type": "display_data"
    }
   ],
   "source": [
    "fig = px.scatter(toplot[toplot.date.dt.year >= 2005], x='date', y='title', size='wordcount',\n",
    "           labels={'date':'Date', 'title':'Number of Articles'},\n",
    "           title = 'Figure 4')\n",
    "fig.update_layout(\n",
    "    font_family='Times New Roman',\n",
    "    font_color='black',\n",
    "    yaxis_range=[0, 200]\n",
    ")\n"
   ]
  },
  {
   "cell_type": "code",
   "execution_count": 28,
   "id": "199b48d7",
   "metadata": {},
   "outputs": [
    {
     "data": {
      "text/plain": [
       "7915"
      ]
     },
     "execution_count": 28,
     "metadata": {},
     "output_type": "execute_result"
    }
   ],
   "source": [
    "len(e)"
   ]
  },
  {
   "cell_type": "code",
   "execution_count": null,
   "id": "46bc074d",
   "metadata": {},
   "outputs": [],
   "source": []
  }
 ],
 "metadata": {
  "kernelspec": {
   "display_name": "Python 3 (ipykernel)",
   "language": "python",
   "name": "python3"
  },
  "language_info": {
   "codemirror_mode": {
    "name": "ipython",
    "version": 3
   },
   "file_extension": ".py",
   "mimetype": "text/x-python",
   "name": "python",
   "nbconvert_exporter": "python",
   "pygments_lexer": "ipython3",
   "version": "3.9.7"
  }
 },
 "nbformat": 4,
 "nbformat_minor": 5
}
