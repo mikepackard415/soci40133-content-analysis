{
 "cells": [
  {
   "cell_type": "code",
   "execution_count": 1,
   "id": "09dab726",
   "metadata": {},
   "outputs": [],
   "source": [
    "import pandas as pd\n",
    "import numpy as np\n",
    "import sklearn\n",
    "import sklearn.feature_extraction.text"
   ]
  },
  {
   "cell_type": "code",
   "execution_count": 18,
   "id": "401e27e0",
   "metadata": {},
   "outputs": [],
   "source": [
    "env = pd.read_csv('../Data/env_corpus.csv', index_col=0)"
   ]
  },
  {
   "cell_type": "code",
   "execution_count": 19,
   "id": "87ed99ae",
   "metadata": {},
   "outputs": [],
   "source": [
    "env = env[~env.text.isna()]\n",
    "env_sample = env.sample(500)"
   ]
  },
  {
   "cell_type": "code",
   "execution_count": 20,
   "id": "a5450dfa",
   "metadata": {},
   "outputs": [
    {
     "name": "stdout",
     "output_type": "stream",
     "text": [
      "(104218, 334256)\n"
     ]
    }
   ],
   "source": [
    "# Initialize vectorizer, then train it\n",
    "CountVectorizer = sklearn.feature_extraction.text.CountVectorizer()\n",
    "Vects = CountVectorizer.fit_transform(env['text'])\n",
    "print(Vects.shape)"
   ]
  },
  {
   "cell_type": "code",
   "execution_count": 96,
   "id": "c32371ec",
   "metadata": {},
   "outputs": [
    {
     "data": {
      "text/plain": [
       "219360"
      ]
     },
     "execution_count": 96,
     "metadata": {},
     "output_type": "execute_result"
    }
   ],
   "source": [
    "CountVectorizer.vocabulary_.get('originally')"
   ]
  },
  {
   "cell_type": "code",
   "execution_count": 98,
   "id": "f9600f1d",
   "metadata": {},
   "outputs": [
    {
     "name": "stdout",
     "output_type": "stream",
     "text": [
      "[0.00109983]\n",
      "[0.00385875]\n"
     ]
    }
   ],
   "source": [
    "word = Vects[:, 295672].toarray()\n",
    "idf = np.log(len(the)/sum(the > 0))\n",
    "\n",
    "word_in_doc = Vects[0, 295672]\n",
    "words_in_doc = Vects[0, :].toarray().sum()\n",
    "tf = word_in_doc / words_in_doc\n",
    "tf_idf = tf * idf\n",
    "\n",
    "print(tf_idf)\n",
    "print(tf_idf / TF[0, 295672])"
   ]
  },
  {
   "cell_type": "code",
   "execution_count": 97,
   "id": "9a7979e0",
   "metadata": {},
   "outputs": [
    {
     "name": "stdout",
     "output_type": "stream",
     "text": [
      "[2.44405924e-05]\n",
      "[0.00096079]\n"
     ]
    }
   ],
   "source": [
    "word = Vects[:, 219360].toarray()\n",
    "idf = np.log(len(the)/sum(the > 0))\n",
    "\n",
    "word_in_doc = Vects[0, 219360]\n",
    "words_in_doc = Vects[0, :].toarray().sum()\n",
    "tf = word_in_doc / words_in_doc\n",
    "tf_idf = tf * idf\n",
    "\n",
    "print(tf_idf)\n",
    "print(tf_idf / TF[0, 219360])"
   ]
  },
  {
   "cell_type": "code",
   "execution_count": 102,
   "id": "6f056aa3",
   "metadata": {},
   "outputs": [
    {
     "data": {
      "text/plain": [
       "0.014376965831619862"
      ]
     },
     "execution_count": 102,
     "metadata": {},
     "output_type": "execute_result"
    }
   ],
   "source": [
    "TF.data[0]"
   ]
  },
  {
   "cell_type": "code",
   "execution_count": 3,
   "id": "54a4c851",
   "metadata": {},
   "outputs": [
    {
     "ename": "ModuleNotFoundError",
     "evalue": "No module named 'plotly.express'",
     "output_type": "error",
     "traceback": [
      "\u001b[0;31m---------------------------------------------------------------------------\u001b[0m",
      "\u001b[0;31mModuleNotFoundError\u001b[0m                       Traceback (most recent call last)",
      "\u001b[0;32m/tmp/ipykernel_434/2395499409.py\u001b[0m in \u001b[0;36m<module>\u001b[0;34m\u001b[0m\n\u001b[0;32m----> 1\u001b[0;31m \u001b[0;32mimport\u001b[0m \u001b[0mplotly\u001b[0m\u001b[0;34m.\u001b[0m\u001b[0mexpress\u001b[0m \u001b[0;32mas\u001b[0m \u001b[0mpx\u001b[0m\u001b[0;34m\u001b[0m\u001b[0;34m\u001b[0m\u001b[0m\n\u001b[0m",
      "\u001b[0;31mModuleNotFoundError\u001b[0m: No module named 'plotly.express'"
     ]
    }
   ],
   "source": [
    "import plotly.express as px"
   ]
  },
  {
   "cell_type": "code",
   "execution_count": 22,
   "id": "daa05b0a",
   "metadata": {},
   "outputs": [
    {
     "name": "stdout",
     "output_type": "stream",
     "text": [
      "(104218, 334256)\n"
     ]
    }
   ],
   "source": [
    "# tf-idf transformer, initialize and train\n",
    "TFTransformer = sklearn.feature_extraction.text.TfidfTransformer().fit(Vects)\n",
    "TF = TFTransformer.transform(Vects)\n",
    "print(TF.shape)"
   ]
  },
  {
   "cell_type": "code",
   "execution_count": 59,
   "id": "d0462fce",
   "metadata": {},
   "outputs": [
    {
     "data": {
      "text/plain": [
       "array([102598])"
      ]
     },
     "execution_count": 59,
     "metadata": {},
     "output_type": "execute_result"
    }
   ],
   "source": [
    "sum(Vects[:, 295672].toarray() > 0)"
   ]
  },
  {
   "cell_type": "code",
   "execution_count": 23,
   "id": "b1c08a3d",
   "metadata": {},
   "outputs": [
    {
     "data": {
      "text/plain": [
       "[('ed', 0.010790350294784541),\n",
       " ('note', 0.01089051289639876),\n",
       " ('this', 0.033604902198786854),\n",
       " ('piece', 0.061089768313600905),\n",
       " ('was', 0.009876193250931285),\n",
       " ('originally', 0.0438014893864799),\n",
       " ('published', 0.02038983213853881),\n",
       " ('on', 0.015097345830326007),\n",
       " ('july', 0.008789132939373561),\n",
       " ('2021', 0.031144212464266942),\n",
       " ('pair', 0.0715459358957915),\n",
       " ('of', 0.01017951042738493),\n",
       " ('climate', 0.026869861340009734),\n",
       " ('scientists', 0.009615378466779333),\n",
       " ('thursday', 0.06622839712271124),\n",
       " ('said', 0.02242729251361861),\n",
       " ('the', 0.12214767336975053),\n",
       " ('record', 0.025198038227343733),\n",
       " ('high', 0.022911993616090618),\n",
       " ('temperatures', 0.07143866924058614)]"
      ]
     },
     "execution_count": 23,
     "metadata": {},
     "output_type": "execute_result"
    }
   ],
   "source": [
    "list(zip(CountVectorizer.vocabulary_.keys(), TF.data))[:20]"
   ]
  },
  {
   "cell_type": "code",
   "execution_count": null,
   "id": "4408a7f6",
   "metadata": {},
   "outputs": [],
   "source": []
  }
 ],
 "metadata": {
  "kernelspec": {
   "display_name": "Python 3 (ipykernel)",
   "language": "python",
   "name": "python3"
  },
  "language_info": {
   "codemirror_mode": {
    "name": "ipython",
    "version": 3
   },
   "file_extension": ".py",
   "mimetype": "text/x-python",
   "name": "python",
   "nbconvert_exporter": "python",
   "pygments_lexer": "ipython3",
   "version": "3.7.11"
  }
 },
 "nbformat": 4,
 "nbformat_minor": 5
}
